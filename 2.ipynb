{
  "cells": [
    {
      "cell_type": "markdown",
      "metadata": {
        "id": "view-in-github",
        "colab_type": "text"
      },
      "source": [
        "<a href=\"https://colab.research.google.com/github/koh-hongQ/KMS_NIMS_AI_Camp/blob/main/2.ipynb\" target=\"_parent\"><img src=\"https://colab.research.google.com/assets/colab-badge.svg\" alt=\"Open In Colab\"/></a>"
      ]
    },
    {
      "cell_type": "markdown",
      "metadata": {
        "id": "M4RvXvQjdNvN"
      },
      "source": [
        "Convolutional Neural Network"
      ]
    },
    {
      "cell_type": "code",
      "execution_count": null,
      "metadata": {
        "id": "DfDMY-h-e0gE"
      },
      "outputs": [],
      "source": [
        "import torch\n",
        "import torchvision\n",
        "import matplotlib.pyplot as plt\n",
        "from torchvision import datasets\n",
        "from torch.utils.data import DataLoader\n",
        "import torchvision.transforms as transforms\n"
      ]
    },
    {
      "cell_type": "code",
      "execution_count": null,
      "metadata": {
        "id": "zrHAx4AJNcKm"
      },
      "outputs": [],
      "source": [
        "from torchvision import datasets\n",
        "from torch.utils.data import DataLoader\n",
        "import torchvision.transforms as transforms\n",
        "\n",
        "MNIST_training_data = datasets.MNIST(\n",
        "    root=\"data\",\n",
        "    train=True,\n",
        "    download=True,\n",
        "    transform=transforms.ToTensor()\n",
        "    )\n",
        "\n",
        "MNIST_test_data = datasets.MNIST(\n",
        "    root=\"data\",\n",
        "    train=False,\n",
        "    download=True,\n",
        "    transform=transforms.ToTensor()\n",
        ")\n",
        "\n",
        "MNIST_training_loader = DataLoader(\n",
        "    MNIST_training_data,\n",
        "    batch_size=64,\n",
        "    shuffle=True\n",
        ")\n",
        "\n",
        "MNIST_test_loader = DataLoader(\n",
        "    MNIST_test_data,\n",
        "    batch_size=64,\n",
        "    shuffle=False\n",
        ")"
      ]
    },
    {
      "cell_type": "code",
      "execution_count": null,
      "metadata": {
        "id": "UioFicV-JKVi"
      },
      "outputs": [],
      "source": [
        "import torch.nn as nn\n",
        "\n",
        "x, y = next(iter(MNIST_test_loader))\n",
        "conv1 = nn.Conv2d(1, 6, 5)\n",
        "print(x.shape)\n",
        "x = conv1(x)\n",
        "print(x.shape)\n",
        "\n",
        "conv2 = nn.Conv2d(6, 16, 5, padding =2)\n",
        "x = conv2(x)\n",
        "print(x.shape)\n",
        "\n",
        "pool = nn.MaxPool2d(2, 2)\n",
        "x = pool(x)\n",
        "print(x.shape)"
      ]
    },
    {
      "cell_type": "code",
      "execution_count": null,
      "metadata": {
        "id": "F50lS_y3dQk_"
      },
      "outputs": [],
      "source": [
        "import torch.nn as nn\n",
        "import torch.nn.functional as F\n",
        "class Net(nn.Module):\n",
        "    def __init__(self):\n",
        "        super().__init__()\n",
        "        self.conv1 = nn.Conv2d(1, 6, 5)\n",
        "        self.pool = nn.MaxPool2d(2, 2)\n",
        "        self.conv2 = nn.Conv2d(6, 16, 5)\n",
        "        self.fc1 = nn.Linear(16 * 4 * 4, 120)\n",
        "        self.fc2 = nn.Linear(120, 84)\n",
        "        self.fc3 = nn.Linear(84, 10)\n",
        "\n",
        "    def forward(self, x):\n",
        "        x = self.pool(F.relu(self.conv1(x)))\n",
        "        x = self.pool(F.relu(self.conv2(x)))\n",
        "        x = torch.flatten(x, 1) # flatten all dimensions except batch\n",
        "        x = F.relu(self.fc1(x))\n",
        "        x = F.relu(self.fc2(x))\n",
        "        x = self.fc3(x)\n",
        "        return x\n",
        "\n",
        "net = Net()"
      ]
    },
    {
      "cell_type": "code",
      "execution_count": null,
      "metadata": {
        "id": "beI16XpqJ4fP"
      },
      "outputs": [],
      "source": [
        "import torch.optim as optim\n",
        "\n",
        "criterion = nn.CrossEntropyLoss()\n",
        "optimizer = optim.SGD(net.parameters(), lr=0.001, momentum=0.9)"
      ]
    },
    {
      "cell_type": "code",
      "execution_count": null,
      "metadata": {
        "id": "ee5uaFnkZu6y"
      },
      "outputs": [],
      "source": [
        "def train_epoch(model, dataloader, loss_function, optimizer):\n",
        "    train_loss = 0\n",
        "    num_batches = len(dataloader)\n",
        "    model.train()\n",
        "    if torch.cuda.is_available():\n",
        "        device = torch.device('cuda')\n",
        "    else:\n",
        "        device = torch.device('cpu')\n",
        "    model.to(device)\n",
        "    for i, (x,y) in enumerate(dataloader):\n",
        "        x = x.to(device)\n",
        "        y = y.to(device)\n",
        "        y_hat = model(x)\n",
        "        loss = loss_function(y_hat, y)\n",
        "        loss.backward()\n",
        "        optimizer.step()\n",
        "        optimizer.zero_grad()\n",
        "        train_loss += loss.item()\n",
        "        if (i+1)%1000 == 0:\n",
        "            print(f\"Batch: {i+1}\")\n",
        "    train_loss/= num_batches\n",
        "    print(f\"Train Error: Avg loss: {train_loss}\")\n",
        "    return train_loss\n",
        "\n",
        "def test_epoch(model, dataloader, loss_function):\n",
        "    model.eval()\n",
        "    test_loss, correct = 0, 0\n",
        "    size = len(dataloader.dataset)\n",
        "    num_batches = len(dataloader)\n",
        "    if torch.cuda.is_available():\n",
        "        device = torch.device('cuda')\n",
        "    else:\n",
        "        device = torch.device('cpu')\n",
        "    model.to(device)\n",
        "    with torch.no_grad():\n",
        "        for x,y in dataloader:\n",
        "            x = x.to(device)\n",
        "            y = y.to(device)\n",
        "            y_hat = model(x)\n",
        "            loss = loss_function(y_hat, y)\n",
        "            test_loss += loss.item()\n",
        "            correct += (y_hat.argmax(1) == y).type(torch.float).sum().item()\n",
        "    test_loss /= num_batches\n",
        "    correct /= size\n",
        "    print(f\"Test Error: Accuracy: {(100*correct)}%, Avg loss: {test_loss}\")\n",
        "    return test_loss, correct"
      ]
    },
    {
      "cell_type": "code",
      "execution_count": null,
      "metadata": {
        "id": "JN7OJeELKOND"
      },
      "outputs": [],
      "source": [
        "loss_function = torch.nn.CrossEntropyLoss()\n",
        "train_loss_list = []\n",
        "test_loss_list = []\n",
        "for epoch in range(5):\n",
        "    train_loss = train_epoch(net, MNIST_training_loader, loss_function, optimizer)\n",
        "    test_loss, correct = test_epoch(net, MNIST_test_loader, loss_function)\n",
        "    train_loss_list.append(train_loss)\n",
        "    test_loss_list.append(test_loss)"
      ]
    },
    {
      "cell_type": "code",
      "execution_count": null,
      "metadata": {
        "id": "WGdK-9R6DdFK"
      },
      "outputs": [],
      "source": [
        "plt.plot(range(len(train_loss_list)), train_loss_list, label = 'train loss')\n",
        "plt.plot(range(len(test_loss_list)), test_loss_list, label = 'test loss')\n",
        "plt.legend()\n",
        "plt.show()"
      ]
    },
    {
      "cell_type": "markdown",
      "metadata": {
        "id": "cW33HTCGLdh_"
      },
      "source": [
        "Finetuning"
      ]
    },
    {
      "cell_type": "code",
      "execution_count": null,
      "metadata": {
        "id": "o2TxOpIiQMjQ"
      },
      "outputs": [],
      "source": [
        "import torch\n",
        "import torch.nn as nn\n",
        "import torchvision\n",
        "import matplotlib.pyplot as plt\n",
        "from torchvision import datasets\n",
        "from torch.utils.data import DataLoader\n",
        "import torchvision.transforms as transforms\n",
        "\n",
        "transform = transforms.Compose(\n",
        "    [transforms.ToTensor(),\n",
        "     transforms.Normalize((0.5, 0.5, 0.5), (0.5, 0.5, 0.5))])\n",
        "\n",
        "batch_size = 4\n",
        "\n",
        "cifar_trainingset = datasets.CIFAR10(root='./data', train=True,\n",
        "                                        download=True, transform=transform)\n",
        "cifar_trainingloader = DataLoader(cifar_trainingset, batch_size=batch_size,\n",
        "                                          shuffle=True, num_workers=2)\n",
        "\n",
        "cifar_testset = datasets.CIFAR10(root='./data', train=False,\n",
        "                                       download=True, transform=transform)\n",
        "cifar_testloader = DataLoader(cifar_testset, batch_size=batch_size,\n",
        "                                         shuffle=False, num_workers=2)\n",
        "\n",
        "classes = ('plane', 'car', 'bird', 'cat',\n",
        "           'deer', 'dog', 'frog', 'horse', 'ship', 'truck')"
      ]
    },
    {
      "cell_type": "code",
      "execution_count": null,
      "metadata": {
        "id": "sTPSCE7VS5fy"
      },
      "outputs": [],
      "source": [
        "print(len(cifar_trainingset))\n",
        "print(len(cifar_testset))"
      ]
    },
    {
      "cell_type": "code",
      "execution_count": null,
      "metadata": {
        "id": "WIg-CqXTEpcQ"
      },
      "outputs": [],
      "source": [
        "x,y = cifar_trainingset[0]\n",
        "x2 = x.permute(1,2,0)\n",
        "print(classes[y])\n",
        "plt.imshow(x2 /2  +0.5)\n",
        "plt.show()"
      ]
    },
    {
      "cell_type": "markdown",
      "metadata": {
        "id": "mXsubIxXW9ue"
      },
      "source": [
        "사전 정의된 모델들"
      ]
    },
    {
      "cell_type": "code",
      "execution_count": null,
      "metadata": {
        "id": "7NbzT38yPDO3"
      },
      "outputs": [],
      "source": [
        "import torchvision\n",
        "from torchvision.models import resnet18\n",
        "re18 = resnet18()\n",
        "x = torch.randn(16, 3, 32, 32)\n",
        "re18(x).shape"
      ]
    },
    {
      "cell_type": "code",
      "execution_count": null,
      "metadata": {
        "id": "jPFZi7x3Le_6"
      },
      "outputs": [],
      "source": [
        "import torch\n",
        "model_scratch = torch.hub.load('pytorch/vision:v0.10.0', 'resnet18', pretrained=False)\n",
        "model_scratch(x).shape"
      ]
    },
    {
      "cell_type": "code",
      "execution_count": null,
      "metadata": {
        "id": "WgsNPfKPcVC0"
      },
      "outputs": [],
      "source": [
        "model_scratch"
      ]
    },
    {
      "cell_type": "code",
      "execution_count": null,
      "metadata": {
        "id": "PBuZXlXcc4bb"
      },
      "outputs": [],
      "source": [
        "model_scratch.layer1"
      ]
    },
    {
      "cell_type": "code",
      "execution_count": null,
      "metadata": {
        "id": "nQMu-mKzeS7H"
      },
      "outputs": [],
      "source": [
        "model_scratch.fc"
      ]
    },
    {
      "cell_type": "code",
      "execution_count": null,
      "metadata": {
        "id": "haSVEQglcnTv"
      },
      "outputs": [],
      "source": [
        "model_scratch.fc = nn.Linear(512, 10)\n",
        "print(model_scratch(x).shape)"
      ]
    },
    {
      "cell_type": "code",
      "execution_count": null,
      "metadata": {
        "id": "hFXy_Wm6cC7s"
      },
      "outputs": [],
      "source": [
        "model_pretrained = torch.hub.load('pytorch/vision:v0.10.0', 'resnet18', pretrained=True)\n",
        "model_pretrained.fc = nn.Linear(512, 10)"
      ]
    },
    {
      "cell_type": "markdown",
      "metadata": {
        "id": "SHbF42MvQdwW"
      },
      "source": [
        "실습: model_scratch와 model_pretrained를 각각 훈련하여 test_loss를 같은 graph에 plot하시오."
      ]
    },
    {
      "cell_type": "code",
      "execution_count": null,
      "metadata": {
        "id": "SF3b9OS1Ge0D"
      },
      "outputs": [],
      "source": [
        "optimizer = torch.optim.SGD(model_pretrained.parameters(), lr = 1e-3, weight_decay= 1e-2)\n",
        "optimizer.step()"
      ]
    },
    {
      "cell_type": "code",
      "execution_count": null,
      "metadata": {
        "id": "XSlcUAl8GwBA"
      },
      "outputs": [],
      "source": [
        "optimizer = torch.optim.Adam(model_pretrained.parameters(), lr = 1e-3, betas = (0.9,0.999))\n",
        "optimizer.step()"
      ]
    },
    {
      "cell_type": "code",
      "execution_count": null,
      "metadata": {
        "id": "kvPdDorUH6oX"
      },
      "outputs": [],
      "source": [
        "optimizer = torch.optim.RMSprop(model_pretrained.parameters(), lr = 1e-3, alpha = 0.99)\n",
        "optimizer.step()"
      ]
    },
    {
      "cell_type": "markdown",
      "metadata": {
        "id": "cMo0Wl3RbkAY"
      },
      "source": [
        "### Recurrent Neural Network"
      ]
    },
    {
      "cell_type": "code",
      "execution_count": null,
      "metadata": {
        "id": "4GUGGuhAh7Ai"
      },
      "outputs": [],
      "source": [
        "import zipfile, os\n",
        "with zipfile.ZipFile(os.path.join('.', 'data.zip'), 'r') as zip_ref:\n",
        "    zip_ref.extractall('.')\n",
        "\n",
        "os.listdir()"
      ]
    },
    {
      "cell_type": "code",
      "execution_count": null,
      "metadata": {
        "id": "bg-5qfT1R0M_"
      },
      "outputs": [],
      "source": [
        "import glob\n",
        "data_dir = os.path.join('.', 'data', 'names')\n",
        "text_files = glob.glob(os.path.join(data_dir, '*.txt'))\n",
        "print(text_files)"
      ]
    },
    {
      "cell_type": "code",
      "execution_count": null,
      "metadata": {
        "id": "Ln5PHcQQitZn"
      },
      "outputs": [],
      "source": [
        "\n",
        "labels_set = set()\n",
        "data = []\n",
        "labels = []\n",
        "for filename in text_files:\n",
        "    label = os.path.splitext(os.path.basename(filename))[0]\n",
        "    print(filename, label)\n",
        "    labels_set.add(label)\n",
        "    lines = open(filename, encoding='utf-8').read().strip().split('\\n')\n",
        "    for name in lines:\n",
        "        data.append(name)\n",
        "        labels.append(label)\n",
        "print(data[:10])\n",
        "print(labels[:10])"
      ]
    },
    {
      "cell_type": "code",
      "execution_count": null,
      "metadata": {
        "id": "li7p42KJiSXt"
      },
      "outputs": [],
      "source": [
        "import string\n",
        "import unicodedata\n",
        "\n",
        "allowed_characters = string.ascii_letters + \" .,;'\" + \"_\"\n",
        "n_letters = len(allowed_characters)\n",
        "\n",
        "def unicodeToAscii(s):\n",
        "    return ''.join(\n",
        "        c for c in unicodedata.normalize('NFD', s)\n",
        "        if unicodedata.category(c) != 'Mn'\n",
        "        and c in allowed_characters\n",
        "    )\n",
        "\n",
        "print (f\"converting 'Ślusàrski' to {unicodeToAscii('Ślusàrski')}\")"
      ]
    },
    {
      "cell_type": "code",
      "execution_count": null,
      "metadata": {
        "id": "VoW0s8RGluj9"
      },
      "outputs": [],
      "source": [
        "import torch\n",
        "def letterToIndex(letter):\n",
        "    # return our out-of-vocabulary character if we encounter a letter unknown to our model\n",
        "    if letter not in allowed_characters:\n",
        "        return allowed_characters.find(\"_\")\n",
        "    else:\n",
        "        return allowed_characters.find(letter)\n",
        "\n",
        "# Turn a line into a <line_length x 1 x n_letters>,\n",
        "# or an array of one-hot letter vectors\n",
        "def lineToTensor(line):\n",
        "    tensor = torch.zeros(len(line), n_letters)\n",
        "    for li, letter in enumerate(line):\n",
        "        tensor[li][letterToIndex(letter)] = 1\n",
        "    return tensor"
      ]
    },
    {
      "cell_type": "code",
      "execution_count": null,
      "metadata": {
        "id": "xRo9ct8enDtY"
      },
      "outputs": [],
      "source": [
        "print (f\"The letter 'a' becomes {lineToTensor('a')}\") #notice that the first position in the tensor = 1\n",
        "print (f\"The name 'Ahn' becomes {lineToTensor('Ahn')}\") #notice 'A' sets the 27th index to 1"
      ]
    },
    {
      "cell_type": "code",
      "execution_count": null,
      "metadata": {
        "id": "JRU1viMalswD"
      },
      "outputs": [],
      "source": [
        "from io import open\n",
        "import glob, os\n",
        "import torch\n",
        "from torch.utils.data import Dataset, DataLoader\n",
        "class NamesDataset(Dataset):\n",
        "    def __init__(self, data_dir):\n",
        "        self.data_dir = data_dir #for provenance of the dataset\n",
        "        labels_set = set() #set of all classes\n",
        "\n",
        "        self.data = []\n",
        "        self.data_tensors = []\n",
        "        self.labels = []\n",
        "        self.labels_index = []\n",
        "        text_files = glob.glob(os.path.join(data_dir, '*.txt'))\n",
        "        for filename in text_files:\n",
        "            label = os.path.splitext(os.path.basename(filename))[0]\n",
        "            labels_set.add(label)\n",
        "            lines = open(filename, encoding='utf-8').read().strip().split('\\n')\n",
        "            for name in lines:\n",
        "                self.data.append(name)\n",
        "                self.data_tensors.append(lineToTensor(name))\n",
        "                self.labels.append(label)\n",
        "        self.labels_uniq = list(labels_set)\n",
        "        for idx in range(len(self.labels)):\n",
        "            temp_index = self.labels_uniq.index(self.labels[idx])\n",
        "            self.labels_index.append(temp_index)\n",
        "\n",
        "    def __len__(self):\n",
        "        return len(self.data)\n",
        "\n",
        "    def __getitem__(self, idx):\n",
        "        data_item = self.data[idx]\n",
        "        data_label = self.labels[idx]\n",
        "        data_tensor = self.data_tensors[idx]\n",
        "        label_index = self.labels_index[idx]\n",
        "        return data_tensor, label_index"
      ]
    },
    {
      "cell_type": "code",
      "execution_count": null,
      "metadata": {
        "id": "7SA4QsQtiRGz"
      },
      "outputs": [],
      "source": [
        "alldata = NamesDataset(\"data/names\")\n",
        "print(f\"loaded {len(alldata)} items of data\")\n",
        "print(f\"example = {alldata[0]}\")"
      ]
    },
    {
      "cell_type": "code",
      "execution_count": null,
      "metadata": {
        "id": "f8VwQxqIhv41"
      },
      "outputs": [],
      "source": [
        "train_set, test_set = torch.utils.data.random_split(alldata, [.85, .15])\n",
        "\n",
        "print(f\"train examples = {len(train_set)}, validation examples = {len(test_set)}\")\n",
        "\n",
        "train_dataloader = DataLoader(train_set, batch_size=1, shuffle=True)\n",
        "test_dataloader = DataLoader(test_set, batch_size=1, shuffle=True)"
      ]
    },
    {
      "cell_type": "code",
      "execution_count": null,
      "metadata": {
        "id": "mR_iY0oGf729"
      },
      "outputs": [],
      "source": [
        "import torch.nn as nn\n",
        "import torch.nn.functional as F\n",
        "\n",
        "class CharRNN(nn.Module):\n",
        "    def __init__(self, input_size, hidden_size, output_size):\n",
        "        super(CharRNN, self).__init__()\n",
        "\n",
        "        self.rnn = nn.RNN(input_size, hidden_size, batch_first=True)\n",
        "        self.h2o = nn.Linear(hidden_size, output_size)\n",
        "\n",
        "    def forward(self, line_tensor):\n",
        "        rnn_out, hidden = self.rnn(line_tensor)\n",
        "        output = self.h2o(hidden[0])\n",
        "        return output"
      ]
    },
    {
      "cell_type": "code",
      "execution_count": null,
      "metadata": {
        "id": "1i3uEB3U5ZE1"
      },
      "outputs": [],
      "source": [
        "x,y = nn.RNN(10, 128, batch_first=True)(torch.randn(32,6, 10))\n",
        "x.shape, y.shape"
      ]
    },
    {
      "cell_type": "code",
      "execution_count": null,
      "metadata": {
        "id": "fCJscvlSpDlX"
      },
      "outputs": [],
      "source": [
        "n_hidden = 128\n",
        "rnn = CharRNN(n_letters, n_hidden, len(alldata.labels_uniq))\n",
        "print(rnn)\n",
        "x = torch.randn(1, 10, 58)\n",
        "rnn(x).shape"
      ]
    },
    {
      "cell_type": "code",
      "execution_count": null,
      "metadata": {
        "id": "O97UnVIDpHWS"
      },
      "outputs": [],
      "source": [
        "def label_from_output(output, output_labels):\n",
        "    top_n, top_i = output.topk(1)\n",
        "    label_i = top_i[0].item()\n",
        "    return output_labels[label_i], label_i\n",
        "\n",
        "input = lineToTensor('Albert').unsqueeze(0)\n",
        "output = rnn(input)\n",
        "print(output)\n",
        "print(label_from_output(output, alldata.labels_uniq))"
      ]
    },
    {
      "cell_type": "code",
      "execution_count": null,
      "metadata": {
        "id": "8I4d6FNkHZ4Z"
      },
      "outputs": [],
      "source": [
        "import random\n",
        "import numpy as np\n",
        "\n",
        "def train_epoch(model, dataloader, loss_function, optimizer, every_iter = 1):\n",
        "    train_loss = 0\n",
        "    num_batches = len(dataloader)\n",
        "    model.train()\n",
        "    if torch.cuda.is_available():\n",
        "        device = torch.device('cuda')\n",
        "    else:\n",
        "        device = torch.device('cpu')\n",
        "    model.to(device)\n",
        "    for i, (x,y) in enumerate(dataloader):\n",
        "        x = x.to(device)\n",
        "        y = y.to(device)\n",
        "        y_hat = model(x)\n",
        "        loss = loss_function(y_hat, y)\n",
        "        loss.backward()\n",
        "        optimizer.step()\n",
        "        nn.utils.clip_grad_norm_(model.parameters(), 3)     #clip gradient\n",
        "        optimizer.zero_grad()\n",
        "        train_loss += loss.item()\n",
        "        if (i+1)%every_iter == 0:\n",
        "            print(f\"Batch: {i+1}, loss:{train_loss/i}\")\n",
        "    train_loss/= num_batches\n",
        "    print(f\"Train Error: Avg loss: {train_loss}\")\n",
        "    return train_loss\n",
        "def test_epoch(model, dataloader, loss_function):\n",
        "    model.eval()\n",
        "    if torch.cuda.is_available():\n",
        "        device = torch.device('cuda')\n",
        "    else:\n",
        "        device = torch.device('cpu')\n",
        "    model.to(device)\n",
        "    test_loss, correct = 0, 0\n",
        "    size = len(dataloader.dataset)\n",
        "    num_batches = len(dataloader)\n",
        "    with torch.no_grad():\n",
        "        for x,y in dataloader:\n",
        "            x = x.to(device)\n",
        "            y = y.to(device)\n",
        "            y_hat = model(x)\n",
        "            loss = loss_function(y_hat, y)\n",
        "            test_loss += loss.item()\n",
        "            correct += (y_hat.argmax(1) == y).type(torch.float).sum().item()\n",
        "    test_loss /= num_batches\n",
        "    correct /= size\n",
        "    print(f\"Test Error: Accuracy: {(100*correct)}%, Avg loss: {test_loss}\")\n",
        "    return test_loss, correct\n",
        "optimizer = torch.optim.SGD(rnn.parameters(), lr=0.03)\n",
        "loss_function = nn.CrossEntropyLoss()"
      ]
    },
    {
      "cell_type": "code",
      "execution_count": null,
      "metadata": {
        "id": "IGImAW6zJ6Zf"
      },
      "outputs": [],
      "source": [
        "train_loss_list = []\n",
        "test_loss_list= []\n",
        "for epoch in range(10):\n",
        "    train_loss = train_epoch(rnn, train_dataloader, loss_function, optimizer, every_iter = 1000)\n",
        "    test_loss, correct = test_epoch(rnn, test_dataloader, loss_function)\n",
        "    train_loss_list.append(train_loss)\n",
        "    test_loss_list.append(test_loss)"
      ]
    },
    {
      "cell_type": "code",
      "execution_count": null,
      "metadata": {
        "id": "caac7SJQTbcV"
      },
      "outputs": [],
      "source": [
        "import matplotlib.pyplot as plt\n",
        "\n",
        "plt.plot(train_loss_list, label = 'train')\n",
        "plt.plot(test_loss_list, label = 'test')\n",
        "plt.legend()\n",
        "plt.show()"
      ]
    },
    {
      "cell_type": "markdown",
      "metadata": {
        "id": "dv6kHgPYH-Z3"
      },
      "source": [
        "연습문제: LSTM을 이용해 유사한 네트워크를 훈련하고 training loss와 test loss를 plot하라.\n"
      ]
    }
  ],
  "metadata": {
    "colab": {
      "provenance": [],
      "gpuType": "T4",
      "include_colab_link": true
    },
    "kernelspec": {
      "display_name": "Python 3",
      "name": "python3"
    },
    "language_info": {
      "name": "python"
    },
    "accelerator": "GPU"
  },
  "nbformat": 4,
  "nbformat_minor": 0
}