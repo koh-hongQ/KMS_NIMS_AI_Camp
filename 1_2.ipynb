{
  "nbformat": 4,
  "nbformat_minor": 0,
  "metadata": {
    "colab": {
      "provenance": [],
      "gpuType": "T4",
      "include_colab_link": true
    },
    "kernelspec": {
      "name": "python3",
      "display_name": "Python 3"
    },
    "language_info": {
      "name": "python"
    },
    "accelerator": "GPU"
  },
  "cells": [
    {
      "cell_type": "markdown",
      "metadata": {
        "id": "view-in-github",
        "colab_type": "text"
      },
      "source": [
        "<a href=\"https://colab.research.google.com/github/koh-hongQ/KMS_NIMS_AI_Camp/blob/main/1_2.ipynb\" target=\"_parent\"><img src=\"https://colab.research.google.com/assets/colab-badge.svg\" alt=\"Open In Colab\"/></a>"
      ]
    },
    {
      "cell_type": "markdown",
      "source": [
        "Dataset 과 Dataloader"
      ],
      "metadata": {
        "id": "lRM4UkcZ1ag1"
      }
    },
    {
      "cell_type": "code",
      "execution_count": null,
      "metadata": {
        "id": "IRQRggq31SzQ"
      },
      "outputs": [],
      "source": [
        "import torch\n",
        "from torch.utils.data import Dataset\n",
        "from torchvision import datasets\n",
        "from torchvision.transforms import ToTensor\n",
        "import matplotlib.pyplot as plt\n",
        "\n",
        "MNIST_training_data = datasets.MNIST(\n",
        "    root=\"data\",\n",
        "    train=True,\n",
        "    download=True,\n",
        "    transform=ToTensor()\n",
        "    )\n",
        "\n",
        "MNIST_test_data = datasets.MNIST(\n",
        "    root=\"data\",\n",
        "    train=False,\n",
        "    download=True,\n",
        "    transform=ToTensor()\n",
        ")"
      ]
    },
    {
      "cell_type": "code",
      "source": [
        "x, y = MNIST_training_data[0]\n",
        "print(x.shape)\n",
        "print(x.squeeze().shape)\n",
        "plt.imshow(x.squeeze(), cmap = 'gray')\n",
        "plt.show()\n",
        "print(y)"
      ],
      "metadata": {
        "id": "o5aYCltDEgwg"
      },
      "execution_count": null,
      "outputs": []
    },
    {
      "cell_type": "code",
      "source": [
        "MNIST_training_data[0][1]"
      ],
      "metadata": {
        "id": "cQit8TbiCJ4e"
      },
      "execution_count": null,
      "outputs": []
    },
    {
      "cell_type": "code",
      "source": [
        "len(MNIST_training_data)"
      ],
      "metadata": {
        "id": "mLzz9xOJ4f7L"
      },
      "execution_count": null,
      "outputs": []
    },
    {
      "cell_type": "code",
      "source": [
        "MNIST_training_data.classes"
      ],
      "metadata": {
        "id": "gNdIZAEJIMD7"
      },
      "execution_count": null,
      "outputs": []
    },
    {
      "cell_type": "code",
      "source": [
        "from torch.utils.data import random_split\n",
        "print(len(MNIST_training_data))\n",
        "dataset_train_split, dataset_val_split = random_split(MNIST_training_data, [50000, 10000])\n",
        "print(len(dataset_train_split), len(dataset_val_split))"
      ],
      "metadata": {
        "id": "LTh0uaExYmkn"
      },
      "execution_count": null,
      "outputs": []
    },
    {
      "cell_type": "markdown",
      "source": [
        "커스텀 Dataset"
      ],
      "metadata": {
        "id": "-ZsHh2Vt2rDz"
      }
    },
    {
      "cell_type": "code",
      "source": [
        "from torchvision.datasets.mnist import read_sn3_pascalvincent_tensor\n",
        "class Custom_MNIST(Dataset):\n",
        "    def __init__(self, path_data, path_label):\n",
        "        self.data = read_sn3_pascalvincent_tensor(path_data)\n",
        "        self.label = read_sn3_pascalvincent_tensor(path_label)\n",
        "    def __len__(self):\n",
        "        return self.data.shape[0]\n",
        "    def __getitem__(self, idx):\n",
        "        return self.data[idx].float(), self.label[idx]\n",
        "import os\n",
        "path_data = os.path.join('data', 'MNIST', 'raw', 't10k-images-idx3-ubyte')\n",
        "path_label = os.path.join('data', 'MNIST', 'raw', 't10k-labels-idx1-ubyte')\n",
        "print(path_data)\n",
        "print(path_label)\n",
        "custom_dataset = Custom_MNIST(path_data, path_label)"
      ],
      "metadata": {
        "id": "qMFovOBs2uTU"
      },
      "execution_count": null,
      "outputs": []
    },
    {
      "cell_type": "code",
      "source": [
        "import os\n",
        "path_data = os.path.join('data', 'MNIST', 'raw', 't10k-images-idx3-ubyte')\n",
        "path_label = os.path.join('data', 'MNIST', 'raw', 't10k-labels-idx1-ubyte')\n",
        "print(path_data)\n",
        "print(path_label)"
      ],
      "metadata": {
        "id": "FxWKMnbVIRpz"
      },
      "execution_count": null,
      "outputs": []
    },
    {
      "cell_type": "code",
      "source": [
        "from torchvision.datasets.mnist import read_sn3_pascalvincent_tensor\n",
        "data = read_sn3_pascalvincent_tensor(path_data)\n",
        "print(data.shape, type(data))"
      ],
      "metadata": {
        "id": "4r81HhnfKPlN"
      },
      "execution_count": null,
      "outputs": []
    },
    {
      "cell_type": "code",
      "source": [
        "label = read_sn3_pascalvincent_tensor(path_label)\n",
        "print(label.shape, type(label))"
      ],
      "metadata": {
        "id": "9pfninNhKdYB"
      },
      "execution_count": null,
      "outputs": []
    },
    {
      "cell_type": "code",
      "source": [
        "custom_dataset.data.shape, custom_dataset.label.shape"
      ],
      "metadata": {
        "id": "b4EcsGhuCWZ3"
      },
      "execution_count": null,
      "outputs": []
    },
    {
      "cell_type": "code",
      "source": [
        "path_data = os.path.join('data', 'MNIST', 'raw', 't10k-images-idx3-ubyte')\n",
        "path_label = os.path.join('data', 'MNIST', 'raw', 't10k-labels-idx1-ubyte')\n",
        "custom_dataset = Custom_MNIST(path_data, path_label)\n",
        "print(len(custom_dataset))\n",
        "x, y = custom_dataset[0]\n",
        "print(x.shape)\n",
        "plt.imshow(x, cmap = 'gray')\n",
        "plt.show()\n",
        "print(y)"
      ],
      "metadata": {
        "id": "k-glCUeqMhOE"
      },
      "execution_count": null,
      "outputs": []
    },
    {
      "cell_type": "markdown",
      "source": [
        "연습문제: data의 개수 n_samples를 argument로 하는 Dataset class를 생성하라. x_1, x_2는 [0, 1] uniform 하게 분포하고 y는 2x_1 + x_2 + 3.5 + noise로 생성된다. noise는 평균이 0, 표준편차 0.1인 gaussian 분포를 따른다."
      ],
      "metadata": {
        "id": "LJ56qJZ7FiwN"
      }
    },
    {
      "cell_type": "markdown",
      "source": [
        "Dataloader"
      ],
      "metadata": {
        "id": "pk1EI43VH_eF"
      }
    },
    {
      "cell_type": "code",
      "source": [
        "from torch.utils.data import DataLoader\n",
        "dataloader = DataLoader(MNIST_training_data, batch_size=32, shuffle=True)\n",
        "print(dataloader.dataset)\n",
        "print(len(dataloader))"
      ],
      "metadata": {
        "id": "VQFN9iI9IBL_"
      },
      "execution_count": null,
      "outputs": []
    },
    {
      "cell_type": "code",
      "source": [
        "for x, y in dataloader:\n",
        "    print(x.shape, y.shape)\n",
        "    plt.imshow(x[0].squeeze(), cmap = 'gray')\n",
        "    plt.show()\n",
        "    break"
      ],
      "metadata": {
        "id": "4bUYyssHUqjl"
      },
      "execution_count": null,
      "outputs": []
    },
    {
      "cell_type": "code",
      "source": [
        "x,y = next(iter(dataloader))\n",
        "print(x.shape, y.shape)\n",
        "plt.imshow(x[0].squeeze(), cmap = 'gray')\n",
        "plt.show()"
      ],
      "metadata": {
        "id": "MuVWuKMpVMuI"
      },
      "execution_count": null,
      "outputs": []
    },
    {
      "cell_type": "markdown",
      "source": [
        "Neural Network Module"
      ],
      "metadata": {
        "id": "GkeTONQd-eQJ"
      }
    },
    {
      "cell_type": "code",
      "source": [
        "from torch import nn\n",
        "import torch\n",
        "linear = nn.Linear(2,1)\n",
        "for param in linear.parameters():\n",
        "    print(param)\n"
      ],
      "metadata": {
        "id": "VEAZMV3vls3Z"
      },
      "execution_count": null,
      "outputs": []
    },
    {
      "cell_type": "code",
      "source": [
        "class Affine(nn.Module):\n",
        "    def __init__(self):\n",
        "        super().__init__()\n",
        "        self.linear = nn.Linear(2,1)\n",
        "    def forward(self, x):\n",
        "        return self.linear(x)\n",
        "model = Affine()\n",
        "for param in linear.parameters():\n",
        "    print(param)"
      ],
      "metadata": {
        "id": "4-IwPIL8gR6Q"
      },
      "execution_count": null,
      "outputs": []
    },
    {
      "cell_type": "code",
      "source": [
        "x = torch.randn(64,2)\n",
        "print(model(x).shape)"
      ],
      "metadata": {
        "id": "CqX3LWetkDKq"
      },
      "execution_count": null,
      "outputs": []
    },
    {
      "cell_type": "code",
      "source": [
        "if torch.cuda.is_available():\n",
        "    device = torch.device('cuda')\n",
        "else:\n",
        "    device = torch.device('cpu')\n",
        "print(device)\n",
        "model.to(device)\n",
        "x = x.to(device)\n",
        "y = y.to(device)\n",
        "print(x,y)"
      ],
      "metadata": {
        "id": "sRKnfaUFlxc8"
      },
      "execution_count": null,
      "outputs": []
    },
    {
      "cell_type": "code",
      "source": [
        "from torch.utils.data import DataLoader\n",
        "dataloader = DataLoader(regression_dataset, batch_size=10, shuffle=True)\n",
        "x,y = next(iter(dataloader))\n",
        "x = x.to(device)\n",
        "y = y.to(device)\n",
        "y_hat = model(x)\n",
        "print(y_hat.shape, y.shape)"
      ],
      "metadata": {
        "id": "DlrM5wbXnCjS"
      },
      "execution_count": null,
      "outputs": []
    },
    {
      "cell_type": "code",
      "source": [
        "from torch.nn import MSELoss\n",
        "loss_function = MSELoss()\n",
        "loss = loss_function(y_hat, y)"
      ],
      "metadata": {
        "id": "oYEJRAornITl"
      },
      "execution_count": null,
      "outputs": []
    },
    {
      "cell_type": "code",
      "source": [
        "for param in model.parameters():\n",
        "    print(param.grad)\n",
        "loss.backward()\n",
        "for param in model.parameters():\n",
        "    print(param.grad)"
      ],
      "metadata": {
        "id": "EucaE8rNndm6"
      },
      "execution_count": null,
      "outputs": []
    },
    {
      "cell_type": "code",
      "source": [
        "for param in model.parameters():\n",
        "    print(param)\n",
        "optimizer = torch.optim.SGD(model.parameters(), lr=0.01)\n",
        "optimizer.step()\n",
        "print('Processing SGD')\n",
        "for param in model.parameters():\n",
        "    print(param)"
      ],
      "metadata": {
        "id": "ZxmkZfrnoE7H"
      },
      "execution_count": null,
      "outputs": []
    },
    {
      "cell_type": "code",
      "source": [
        "from torch.utils.data import Dataset, DataLoader\n",
        "class LinearRegressionDataset(Dataset):\n",
        "    def __init__(self, n_samples):\n",
        "        self.x = torch.rand(n_samples, 2)                                                                 # 입력 x\n",
        "        noise = torch.randn(n_samples) * 0.1                                                              # 노이즈\n",
        "        self.y = (2 * self.x[:, 0] + self.x[:, 1] + 3.50 + noise).unsqueeze(dim=1)                        # 출력 y\n",
        "\n",
        "    def __len__(self):\n",
        "        return len(self.x)\n",
        "\n",
        "    def __getitem__(self, idx):\n",
        "        return self.x[idx], self.y[idx]\n",
        "\n",
        "model = Affine()\n",
        "regression_dataset = LinearRegressionDataset(1000)\n",
        "dataloader = DataLoader(regression_dataset, batch_size=10, shuffle=True)\n",
        "loss_function = MSELoss()\n",
        "learning_rate = 1e-3\n",
        "optimizer = torch.optim.SGD(model.parameters(), lr=learning_rate)\n",
        "\n",
        "if torch.cuda.is_available():\n",
        "    device = torch.device('cuda')\n",
        "else:\n",
        "    device = torch.device('cpu')\n",
        "\n",
        "def train_epoch(model, dataloader, loss_function, optimizer):\n",
        "    model.train()\n",
        "    model.to(device)\n",
        "    for x,y in dataloader:\n",
        "        x = x.to(device)\n",
        "        y = y.to(device)\n",
        "        y_hat = model(x)\n",
        "        loss = loss_function(y_hat, y)\n",
        "        loss.backward()\n",
        "        optimizer.step()\n",
        "        optimizer.zero_grad()\n",
        "    if (epoch+1)%10 == 0:\n",
        "        print(f'{epoch+1}th epoch')\n",
        "        for param in model.parameters():\n",
        "            print(param.data)\n",
        "    return loss\n"
      ],
      "metadata": {
        "id": "g66YflUopQ_a"
      },
      "execution_count": null,
      "outputs": []
    },
    {
      "cell_type": "code",
      "source": [
        "for epoch in range(100):\n",
        "    loss = train_epoch(model, dataloader, loss_function, optimizer)"
      ],
      "metadata": {
        "id": "am0zfEkC76I1"
      },
      "execution_count": null,
      "outputs": []
    },
    {
      "cell_type": "markdown",
      "source": [
        "Multilayer Perceptron"
      ],
      "metadata": {
        "id": "MKUJJM4a95Z2"
      }
    },
    {
      "cell_type": "code",
      "source": [
        "from torch import nn\n",
        "class NeuralNetwork(nn.Module):\n",
        "    def __init__(self):\n",
        "        super().__init__()\n",
        "        self.flatten = nn.Flatten()\n",
        "        self.linear1 = nn.Linear(28*28, 512)\n",
        "        self.relu1 = nn.ReLU()\n",
        "        self.linear2 = nn.Linear(512, 512)\n",
        "        self.relu2 = nn.ReLU()\n",
        "        self.linear3 = nn.Linear(512, 10)\n",
        "        self.softmax = nn.Softmax(dim=1)\n",
        "    def forward(self, x):\n",
        "        x = self.flatten(x)\n",
        "        x = self.linear1(x)\n",
        "        x = self.relu1(x)\n",
        "        x = self.linear2(x)\n",
        "        x = self.relu2(x)\n",
        "        x = self.linear3(x)\n",
        "        x = self.softmax(x)\n",
        "        return x\n",
        "model1 = NeuralNetwork()\n",
        "for param in model1.parameters():\n",
        "    print(param.shape)"
      ],
      "metadata": {
        "id": "ojobUNB_-hjC"
      },
      "execution_count": null,
      "outputs": []
    },
    {
      "cell_type": "code",
      "source": [
        "class NeuralNetwork2(nn.Module):\n",
        "    def __init__(self):\n",
        "        super().__init__()\n",
        "        self.flatten = nn.Flatten()\n",
        "        self.linear_relu_stack = nn.Sequential(\n",
        "            nn.Linear(28*28, 512),\n",
        "            nn.ReLU(),\n",
        "            nn.Linear(512, 512),\n",
        "            nn.ReLU(),\n",
        "            nn.Linear(512, 10),\n",
        "        )\n",
        "        self.softmax = nn.Softmax(dim=1)\n",
        "    def forward(self, x):\n",
        "        x = self.flatten(x)\n",
        "        logits = self.linear_relu_stack(x)\n",
        "        return self.softmax(logits)\n",
        "model2 = NeuralNetwork2()\n",
        "for param in model2.parameters():\n",
        "    print(param.shape)"
      ],
      "metadata": {
        "id": "88xFkG6KsVLG"
      },
      "execution_count": null,
      "outputs": []
    },
    {
      "cell_type": "code",
      "source": [
        "from torch.utils.data import DataLoader\n",
        "MNIST_train_dataloader = DataLoader(MNIST_training_data, batch_size=64, shuffle=True)\n",
        "MNIST_test_dataloader = DataLoader(MNIST_test_data, batch_size=64, shuffle=False)\n",
        "model2 = NeuralNetwork2()\n",
        "optimizer = torch.optim.SGD(model2.parameters(), lr=1e-3)\n",
        "loss_function = torch.nn.CrossEntropyLoss()"
      ],
      "metadata": {
        "id": "L4tZWa0r-ul9"
      },
      "execution_count": null,
      "outputs": []
    },
    {
      "cell_type": "code",
      "source": [
        "x, y = next(iter(MNIST_train_dataloader))\n",
        "print(x.shape), print(y.shape)\n",
        "y_hat = model2(x)\n",
        "print(y_hat.shape)\n",
        "loss_function(y_hat, y)"
      ],
      "metadata": {
        "id": "hpWijvTZXx9c"
      },
      "execution_count": null,
      "outputs": []
    },
    {
      "cell_type": "code",
      "source": [
        "def train_epoch(model, dataloader, loss_function, optimizer):\n",
        "    train_loss = 0\n",
        "    num_batches = len(dataloader)\n",
        "    model.train()\n",
        "    if torch.cuda.is_available():\n",
        "        device = torch.device('cuda')\n",
        "    else:\n",
        "        device = torch.device('cpu')\n",
        "    model.to(device)\n",
        "    for x,y in dataloader:\n",
        "        x = x.to(device)\n",
        "        y = y.to(device)\n",
        "        y_hat = model(x)\n",
        "        loss = loss_function(y_hat, y)\n",
        "        loss.backward()\n",
        "        optimizer.step()\n",
        "        optimizer.zero_grad()\n",
        "        train_loss += loss.item()\n",
        "    train_loss/= num_batches\n",
        "    print(f\"Train Error: Avg loss: {train_loss}\")\n",
        "    return train_loss\n",
        "\n",
        "def test_epoch(model, dataloader, loss_function):\n",
        "    model.eval()\n",
        "    test_loss, correct = 0, 0\n",
        "    size = len(dataloader.dataset)\n",
        "    num_batches = len(dataloader)\n",
        "    if torch.cuda.is_available():\n",
        "        device = torch.device('cuda')\n",
        "    else:\n",
        "        device = torch.device('cpu')\n",
        "    model.to(device)\n",
        "    with torch.no_grad():\n",
        "        for x,y in dataloader:\n",
        "            x = x.to(device)\n",
        "            y = y.to(device)\n",
        "            y_hat = model(x)\n",
        "            loss = loss_function(y_hat, y)\n",
        "            test_loss += loss.item()\n",
        "            correct += (y_hat.argmax(1) == y).type(torch.float).sum().item()\n",
        "    test_loss /= num_batches\n",
        "    correct /= size\n",
        "    print(f\"Test Error: Accuracy: {(100*correct)}%, Avg loss: {test_loss}\")\n",
        "    return test_loss, correct\n",
        "\n",
        "train_loss_list = []\n",
        "test_loss_list = []\n",
        "for epoch in range(20):\n",
        "    train_loss = train_epoch(model2, MNIST_train_dataloader, loss_function, optimizer)\n",
        "    test_loss, correct = test_epoch(model2, MNIST_test_dataloader, loss_function)\n",
        "    train_loss_list.append(train_loss)\n",
        "    test_loss_list.append(test_loss)\n",
        "plt.plot(range(len(train_loss_list)), train_loss_list)\n",
        "plt.plot(range(len(test_loss_list)), test_loss_list)\n",
        "plt.show()"
      ],
      "metadata": {
        "id": "qKWH-XpWFt30"
      },
      "execution_count": null,
      "outputs": []
    },
    {
      "cell_type": "markdown",
      "source": [
        "Model 저장 및 불러오기"
      ],
      "metadata": {
        "id": "xOUHpGuqSlc5"
      }
    },
    {
      "cell_type": "code",
      "source": [
        "torch.save(model2, 'model.pth')"
      ],
      "metadata": {
        "id": "y84b6Y6cR9JQ"
      },
      "execution_count": null,
      "outputs": []
    },
    {
      "cell_type": "code",
      "source": [
        "model = torch.load('model.pth', weights_only=False)"
      ],
      "metadata": {
        "id": "-S4nN9wMSDhB"
      },
      "execution_count": null,
      "outputs": []
    },
    {
      "cell_type": "code",
      "source": [
        "torch.save(model2.state_dict(), 'model_weights.pth')"
      ],
      "metadata": {
        "id": "SNx7_cFNSkqF"
      },
      "execution_count": null,
      "outputs": []
    },
    {
      "cell_type": "code",
      "source": [
        "for name, param in model2.state_dict().items():\n",
        "    print(name, param.shape)"
      ],
      "metadata": {
        "id": "ngQW96C2wMAu"
      },
      "execution_count": null,
      "outputs": []
    },
    {
      "cell_type": "code",
      "source": [
        "model = NeuralNetwork2()\n",
        "model.load_state_dict(torch.load('model_weights.pth'))\n",
        "test_epoch(model2, MNIST_test_dataloader, loss_function)"
      ],
      "metadata": {
        "id": "eEE8QIKFS5XE"
      },
      "execution_count": null,
      "outputs": []
    },
    {
      "cell_type": "markdown",
      "source": [
        "Learning Rate Scheduling"
      ],
      "metadata": {
        "id": "muPSrIwBVE9h"
      }
    },
    {
      "cell_type": "code",
      "source": [
        "from torch.optim.lr_scheduler import ExponentialLR, ReduceLROnPlateau\n",
        "scheduler = ReduceLROnPlateau(optimizer)\n",
        "for epoch in range(10):\n",
        "    loss = train_epoch(model2, MNIST_train_dataloader, loss_function, optimizer)\n",
        "    scheduler.step(loss)"
      ],
      "metadata": {
        "id": "IrrtpXoI-BWI"
      },
      "execution_count": null,
      "outputs": []
    },
    {
      "cell_type": "code",
      "source": [
        "scheduler.get_last_lr()"
      ],
      "metadata": {
        "id": "3agPwsW7F_ri"
      },
      "execution_count": null,
      "outputs": []
    },
    {
      "cell_type": "code",
      "source": [
        "model = nn.Dropout()\n",
        "x = torch.randn(3)\n",
        "model.train()\n",
        "print('Training mode')\n",
        "for i in range(5):\n",
        "    print(model(x))\n",
        "model.eval()\n",
        "print('Evaluation mode')\n",
        "for i in range(5):\n",
        "    print(model(x))"
      ],
      "metadata": {
        "id": "ticcTP46x76n"
      },
      "execution_count": null,
      "outputs": []
    }
  ]
}