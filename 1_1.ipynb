{
  "nbformat": 4,
  "nbformat_minor": 0,
  "metadata": {
    "colab": {
      "provenance": [],
      "include_colab_link": true
    },
    "kernelspec": {
      "name": "python3",
      "display_name": "Python 3"
    },
    "language_info": {
      "name": "python"
    }
  },
  "cells": [
    {
      "cell_type": "markdown",
      "metadata": {
        "id": "view-in-github",
        "colab_type": "text"
      },
      "source": [
        "<a href=\"https://colab.research.google.com/github/koh-hongQ/KMS_NIMS_AI_Camp/blob/main/1_1.ipynb\" target=\"_parent\"><img src=\"https://colab.research.google.com/assets/colab-badge.svg\" alt=\"Open In Colab\"/></a>"
      ]
    },
    {
      "cell_type": "markdown",
      "source": [
        "## Python 기초문법"
      ],
      "metadata": {
        "id": "C4PxjPWE0CB4"
      }
    },
    {
      "cell_type": "markdown",
      "source": [
        "변수 및 기초 연산"
      ],
      "metadata": {
        "id": "rxYksyUK-JjV"
      }
    },
    {
      "cell_type": "code",
      "source": [
        "a = 4\n",
        "a"
      ],
      "metadata": {
        "id": "0w9gI0aredgz",
        "colab": {
          "base_uri": "https://localhost:8080/"
        },
        "outputId": "f4e1f6c1-ab38-41c2-8983-ea5c4b995f2d"
      },
      "execution_count": 20,
      "outputs": [
        {
          "output_type": "execute_result",
          "data": {
            "text/plain": [
              "4"
            ]
          },
          "metadata": {},
          "execution_count": 20
        }
      ]
    },
    {
      "cell_type": "code",
      "source": [
        "a = 4\n",
        "print(a)"
      ],
      "metadata": {
        "id": "fROGqgsTyZOZ",
        "colab": {
          "base_uri": "https://localhost:8080/"
        },
        "outputId": "d2adebf2-7b5c-4285-95cf-065ad69955ac"
      },
      "execution_count": 21,
      "outputs": [
        {
          "output_type": "stream",
          "name": "stdout",
          "text": [
            "4\n"
          ]
        }
      ]
    },
    {
      "cell_type": "markdown",
      "source": [],
      "metadata": {
        "id": "AzT2Dbo76RZB"
      }
    },
    {
      "cell_type": "code",
      "source": [
        "b = 2\n",
        "print(a, b)"
      ],
      "metadata": {
        "id": "p6vqtnWtcRAJ",
        "colab": {
          "base_uri": "https://localhost:8080/"
        },
        "outputId": "cbbfae31-bb18-44e4-91c5-f6d364a6fd9d"
      },
      "execution_count": 22,
      "outputs": [
        {
          "output_type": "stream",
          "name": "stdout",
          "text": [
            "4 2\n"
          ]
        }
      ]
    },
    {
      "cell_type": "code",
      "source": [
        "a2 = a + b\n",
        "a2"
      ],
      "metadata": {
        "id": "wHIhp61A4r6j",
        "colab": {
          "base_uri": "https://localhost:8080/"
        },
        "outputId": "84c1b14d-b007-476c-8610-f11b852c2a0f"
      },
      "execution_count": 23,
      "outputs": [
        {
          "output_type": "execute_result",
          "data": {
            "text/plain": [
              "6"
            ]
          },
          "metadata": {},
          "execution_count": 23
        }
      ]
    },
    {
      "cell_type": "code",
      "source": [
        "print(a + b, a*b, a - b, a/b)"
      ],
      "metadata": {
        "id": "vdCKSNBbfEPy",
        "colab": {
          "base_uri": "https://localhost:8080/"
        },
        "outputId": "a4b09d54-1935-4ff3-db31-9e9b0eeceefc"
      },
      "execution_count": 24,
      "outputs": [
        {
          "output_type": "stream",
          "name": "stdout",
          "text": [
            "6 8 2 2.0\n"
          ]
        }
      ]
    },
    {
      "cell_type": "code",
      "source": [
        "print(a**b, a//b, a%b)"
      ],
      "metadata": {
        "id": "spnhB6V4ct0E",
        "colab": {
          "base_uri": "https://localhost:8080/"
        },
        "outputId": "48dd7dac-2c74-4ae0-c172-71c6f1556d33"
      },
      "execution_count": 25,
      "outputs": [
        {
          "output_type": "stream",
          "name": "stdout",
          "text": [
            "16 2 0\n"
          ]
        }
      ]
    },
    {
      "cell_type": "code",
      "source": [
        "type(a)"
      ],
      "metadata": {
        "id": "3pIkwEROc0ro",
        "colab": {
          "base_uri": "https://localhost:8080/"
        },
        "outputId": "8ea30238-2afb-47ac-e50a-caccea874e49"
      },
      "execution_count": 39,
      "outputs": [
        {
          "output_type": "execute_result",
          "data": {
            "text/plain": [
              "int"
            ]
          },
          "metadata": {},
          "execution_count": 39
        }
      ]
    },
    {
      "cell_type": "code",
      "source": [
        "c = 2.0\n",
        "type(c)"
      ],
      "metadata": {
        "id": "oP0t81oLdB62",
        "colab": {
          "base_uri": "https://localhost:8080/"
        },
        "outputId": "f528f141-14a3-4c74-9b2f-c4bea0043226"
      },
      "execution_count": 40,
      "outputs": [
        {
          "output_type": "execute_result",
          "data": {
            "text/plain": [
              "float"
            ]
          },
          "metadata": {},
          "execution_count": 40
        }
      ]
    },
    {
      "cell_type": "code",
      "source": [
        "type(a//b), type(a/b)"
      ],
      "metadata": {
        "id": "739Aan2Lcyry",
        "colab": {
          "base_uri": "https://localhost:8080/"
        },
        "outputId": "5225e650-8120-4f27-9bf7-46a12172b925"
      },
      "execution_count": 41,
      "outputs": [
        {
          "output_type": "execute_result",
          "data": {
            "text/plain": [
              "(int, float)"
            ]
          },
          "metadata": {},
          "execution_count": 41
        }
      ]
    },
    {
      "cell_type": "code",
      "source": [
        "a *= 2\n",
        "print(a)\n",
        "a -= 1\n",
        "print(a)"
      ],
      "metadata": {
        "id": "x-OyPHbq9BCJ",
        "colab": {
          "base_uri": "https://localhost:8080/"
        },
        "outputId": "3e8acb4a-2e05-4bea-ec9b-b52663a474bc"
      },
      "execution_count": 42,
      "outputs": [
        {
          "output_type": "stream",
          "name": "stdout",
          "text": [
            "2\n",
            "1\n"
          ]
        }
      ]
    },
    {
      "cell_type": "code",
      "source": [
        "c = 'text_variable'\n",
        "print(c)\n",
        "type(c)"
      ],
      "metadata": {
        "id": "0nS4E1mAzQaL",
        "colab": {
          "base_uri": "https://localhost:8080/"
        },
        "outputId": "d36d7ea7-162b-428e-bfe2-3048f80fd353"
      },
      "execution_count": 43,
      "outputs": [
        {
          "output_type": "stream",
          "name": "stdout",
          "text": [
            "text_variable\n"
          ]
        },
        {
          "output_type": "execute_result",
          "data": {
            "text/plain": [
              "str"
            ]
          },
          "metadata": {},
          "execution_count": 43
        }
      ]
    },
    {
      "cell_type": "code",
      "source": [
        "a = 1\n",
        "c = f'a is {a}'\n",
        "print(c)"
      ],
      "metadata": {
        "id": "ZVUpk7F89xpX",
        "colab": {
          "base_uri": "https://localhost:8080/"
        },
        "outputId": "42e26e6e-5fb1-45b1-f4d6-df0a22f65ac9"
      },
      "execution_count": 44,
      "outputs": [
        {
          "output_type": "stream",
          "name": "stdout",
          "text": [
            "a is 1\n"
          ]
        }
      ]
    },
    {
      "cell_type": "markdown",
      "source": [
        "if 문"
      ],
      "metadata": {
        "id": "9meCozwD9Z9I"
      }
    },
    {
      "cell_type": "code",
      "source": [
        "a = 2\n",
        "print(a == 1, a == 2)\n",
        "print(a >1, a > 2)\n",
        "print(a >= 1, a >= 2)"
      ],
      "metadata": {
        "id": "k59rSogY9idu",
        "colab": {
          "base_uri": "https://localhost:8080/"
        },
        "outputId": "d92354cb-4d92-4391-fa7d-a478a6b9b339"
      },
      "execution_count": 45,
      "outputs": [
        {
          "output_type": "stream",
          "name": "stdout",
          "text": [
            "False True\n",
            "True False\n",
            "True True\n"
          ]
        }
      ]
    },
    {
      "cell_type": "code",
      "source": [
        "print(a != 2)\n",
        "print(not a == 2)\n",
        "print(a>1 or a<0)\n",
        "print(a>1 and a<0)"
      ],
      "metadata": {
        "id": "BkOSVfxdgFbR",
        "colab": {
          "base_uri": "https://localhost:8080/"
        },
        "outputId": "634c02a3-f729-43cd-ee46-53894548386e"
      },
      "execution_count": 46,
      "outputs": [
        {
          "output_type": "stream",
          "name": "stdout",
          "text": [
            "False\n",
            "False\n",
            "True\n",
            "False\n"
          ]
        }
      ]
    },
    {
      "cell_type": "code",
      "source": [
        "a = 2\n",
        "if a == 2:\n",
        "    print('a is 2')\n",
        "elif a == 3:\n",
        "    print('a is 3')\n",
        "else:\n",
        "    print('a is neither 2 nor 3')"
      ],
      "metadata": {
        "id": "zUWfRwfy9e8c",
        "colab": {
          "base_uri": "https://localhost:8080/"
        },
        "outputId": "61f087e7-84ad-46a1-dac9-b12e6ee0a5da"
      },
      "execution_count": 47,
      "outputs": [
        {
          "output_type": "stream",
          "name": "stdout",
          "text": [
            "a is 2\n"
          ]
        }
      ]
    },
    {
      "cell_type": "markdown",
      "source": [
        "list"
      ],
      "metadata": {
        "id": "eGMsDBWF9f2f"
      }
    },
    {
      "cell_type": "code",
      "source": [
        "x = [3, 4.0, 'element', 5]\n",
        "print(x[0])\n",
        "print(x[1])"
      ],
      "metadata": {
        "id": "Pd61j4If8kE_",
        "colab": {
          "base_uri": "https://localhost:8080/"
        },
        "outputId": "5088f282-fe1f-4ebc-d4b3-3a7235c20642"
      },
      "execution_count": 48,
      "outputs": [
        {
          "output_type": "stream",
          "name": "stdout",
          "text": [
            "3\n",
            "4.0\n"
          ]
        }
      ]
    },
    {
      "cell_type": "code",
      "source": [
        "print(len(x))"
      ],
      "metadata": {
        "id": "Ld_C1r-x9PJG",
        "colab": {
          "base_uri": "https://localhost:8080/"
        },
        "outputId": "fe33e7f3-9178-4e38-b519-844880ef11f3"
      },
      "execution_count": 49,
      "outputs": [
        {
          "output_type": "stream",
          "name": "stdout",
          "text": [
            "4\n"
          ]
        }
      ]
    },
    {
      "cell_type": "code",
      "source": [
        "print(x[4])"
      ],
      "metadata": {
        "id": "9YOCnVgf9M_j",
        "colab": {
          "base_uri": "https://localhost:8080/",
          "height": 146
        },
        "outputId": "7625cf5d-6922-4ae6-a90c-35eff00c7169"
      },
      "execution_count": 50,
      "outputs": [
        {
          "output_type": "error",
          "ename": "IndexError",
          "evalue": "list index out of range",
          "traceback": [
            "\u001b[0;31m---------------------------------------------------------------------------\u001b[0m",
            "\u001b[0;31mIndexError\u001b[0m                                Traceback (most recent call last)",
            "\u001b[0;32m/tmp/ipython-input-50-1197934095.py\u001b[0m in \u001b[0;36m<cell line: 0>\u001b[0;34m()\u001b[0m\n\u001b[0;32m----> 1\u001b[0;31m \u001b[0mprint\u001b[0m\u001b[0;34m(\u001b[0m\u001b[0mx\u001b[0m\u001b[0;34m[\u001b[0m\u001b[0;36m4\u001b[0m\u001b[0;34m]\u001b[0m\u001b[0;34m)\u001b[0m\u001b[0;34m\u001b[0m\u001b[0;34m\u001b[0m\u001b[0m\n\u001b[0m",
            "\u001b[0;31mIndexError\u001b[0m: list index out of range"
          ]
        }
      ]
    },
    {
      "cell_type": "code",
      "source": [
        "print(x[1:3])\n",
        "print(x[1:])\n",
        "print(x[:3])"
      ],
      "metadata": {
        "id": "EKPPZBTfgeCs",
        "colab": {
          "base_uri": "https://localhost:8080/"
        },
        "outputId": "9ee23704-88af-4e0a-d5c7-d30337e368d6"
      },
      "execution_count": 51,
      "outputs": [
        {
          "output_type": "stream",
          "name": "stdout",
          "text": [
            "[4.0, 'element']\n",
            "[4.0, 'element', 5]\n",
            "[3, 4.0, 'element']\n"
          ]
        }
      ]
    },
    {
      "cell_type": "code",
      "source": [
        "print(x[-1])\n",
        "print(x[-2])"
      ],
      "metadata": {
        "id": "MP_1L1k0BDD8",
        "colab": {
          "base_uri": "https://localhost:8080/"
        },
        "outputId": "6612f346-dad6-4288-c38e-898365dd516a"
      },
      "execution_count": 52,
      "outputs": [
        {
          "output_type": "stream",
          "name": "stdout",
          "text": [
            "5\n",
            "element\n"
          ]
        }
      ]
    },
    {
      "cell_type": "code",
      "source": [
        "print(x[:-2])\n",
        "print(x[-2:])"
      ],
      "metadata": {
        "id": "UnTCuumLg0Y_",
        "colab": {
          "base_uri": "https://localhost:8080/"
        },
        "outputId": "f1ecfe88-5c85-4936-c355-33be0ea6a44c"
      },
      "execution_count": 53,
      "outputs": [
        {
          "output_type": "stream",
          "name": "stdout",
          "text": [
            "[3, 4.0]\n",
            "['element', 5]\n"
          ]
        }
      ]
    },
    {
      "cell_type": "code",
      "source": [
        "x[2] = 7\n",
        "print(x)"
      ],
      "metadata": {
        "id": "OKF948zshTob",
        "colab": {
          "base_uri": "https://localhost:8080/"
        },
        "outputId": "ce06a233-dc55-4638-9b62-1a8b41ac4741"
      },
      "execution_count": 54,
      "outputs": [
        {
          "output_type": "stream",
          "name": "stdout",
          "text": [
            "[3, 4.0, 7, 5]\n"
          ]
        }
      ]
    },
    {
      "cell_type": "code",
      "source": [
        "x.append(6)\n",
        "print(x)"
      ],
      "metadata": {
        "id": "tz0BV6I4harH",
        "colab": {
          "base_uri": "https://localhost:8080/"
        },
        "outputId": "525315ae-8aef-45c9-f69f-3f973b2ab202"
      },
      "execution_count": 55,
      "outputs": [
        {
          "output_type": "stream",
          "name": "stdout",
          "text": [
            "[3, 4.0, 7, 5, 6]\n"
          ]
        }
      ]
    },
    {
      "cell_type": "markdown",
      "source": [
        "Tuple"
      ],
      "metadata": {
        "id": "IlhuQJwPhO9w"
      }
    },
    {
      "cell_type": "code",
      "source": [
        "x = (1,2,3)\n",
        "print(x[0])"
      ],
      "metadata": {
        "id": "VFW1oQVuhQ_K",
        "colab": {
          "base_uri": "https://localhost:8080/"
        },
        "outputId": "3e0f95eb-09a7-41a0-98a0-38e7b4636db0"
      },
      "execution_count": 56,
      "outputs": [
        {
          "output_type": "stream",
          "name": "stdout",
          "text": [
            "1\n"
          ]
        }
      ]
    },
    {
      "cell_type": "code",
      "source": [
        "x[2] = 1"
      ],
      "metadata": {
        "id": "3_qf43xzhoKT",
        "colab": {
          "base_uri": "https://localhost:8080/",
          "height": 146
        },
        "outputId": "afe80325-03e4-4f5d-c27c-003ed67b3c5f"
      },
      "execution_count": 57,
      "outputs": [
        {
          "output_type": "error",
          "ename": "TypeError",
          "evalue": "'tuple' object does not support item assignment",
          "traceback": [
            "\u001b[0;31m---------------------------------------------------------------------------\u001b[0m",
            "\u001b[0;31mTypeError\u001b[0m                                 Traceback (most recent call last)",
            "\u001b[0;32m/tmp/ipython-input-57-2473999949.py\u001b[0m in \u001b[0;36m<cell line: 0>\u001b[0;34m()\u001b[0m\n\u001b[0;32m----> 1\u001b[0;31m \u001b[0mx\u001b[0m\u001b[0;34m[\u001b[0m\u001b[0;36m2\u001b[0m\u001b[0;34m]\u001b[0m \u001b[0;34m=\u001b[0m \u001b[0;36m1\u001b[0m\u001b[0;34m\u001b[0m\u001b[0;34m\u001b[0m\u001b[0m\n\u001b[0m",
            "\u001b[0;31mTypeError\u001b[0m: 'tuple' object does not support item assignment"
          ]
        }
      ]
    },
    {
      "cell_type": "markdown",
      "source": [
        "Dictionary"
      ],
      "metadata": {
        "id": "zvskTLNog8it"
      }
    },
    {
      "cell_type": "code",
      "source": [
        "d = {0: 'value1', 'key2': 'value2'}\n",
        "print(d)"
      ],
      "metadata": {
        "id": "vKPWqgGCg-8_",
        "colab": {
          "base_uri": "https://localhost:8080/"
        },
        "outputId": "a6f72193-9ee1-48be-ba4a-0a7c4230ccfb"
      },
      "execution_count": 58,
      "outputs": [
        {
          "output_type": "stream",
          "name": "stdout",
          "text": [
            "{0: 'value1', 'key2': 'value2'}\n"
          ]
        }
      ]
    },
    {
      "cell_type": "code",
      "source": [
        "print(d[0])\n",
        "print(d['key2'])"
      ],
      "metadata": {
        "id": "wMAGU-gYhsf2",
        "colab": {
          "base_uri": "https://localhost:8080/"
        },
        "outputId": "db6ddc85-c2ad-48be-9db8-6ad4cf5675d8"
      },
      "execution_count": 59,
      "outputs": [
        {
          "output_type": "stream",
          "name": "stdout",
          "text": [
            "value1\n",
            "value2\n"
          ]
        }
      ]
    },
    {
      "cell_type": "markdown",
      "source": [
        "set"
      ],
      "metadata": {
        "id": "ut9cPsp-DeVl"
      }
    },
    {
      "cell_type": "code",
      "source": [
        "s = set([1, 2, 3])\n",
        "print(s)"
      ],
      "metadata": {
        "id": "j-c0RWDSDdet",
        "colab": {
          "base_uri": "https://localhost:8080/"
        },
        "outputId": "61d7cfc4-08ae-42c6-a5ac-e930d99a0028"
      },
      "execution_count": 60,
      "outputs": [
        {
          "output_type": "stream",
          "name": "stdout",
          "text": [
            "{1, 2, 3}\n"
          ]
        }
      ]
    },
    {
      "cell_type": "code",
      "source": [
        "s.add(5)\n",
        "print(s)"
      ],
      "metadata": {
        "id": "FBXGFKRXDmmZ",
        "colab": {
          "base_uri": "https://localhost:8080/"
        },
        "outputId": "fecb90d5-7749-46ed-b415-f46d1d662c48"
      },
      "execution_count": 61,
      "outputs": [
        {
          "output_type": "stream",
          "name": "stdout",
          "text": [
            "{1, 2, 3, 5}\n"
          ]
        }
      ]
    },
    {
      "cell_type": "code",
      "source": [
        "s.add(3)\n",
        "print(s)"
      ],
      "metadata": {
        "id": "J38gxk_IDqTp",
        "colab": {
          "base_uri": "https://localhost:8080/"
        },
        "outputId": "42843b39-68a1-4034-e283-fca59e253edf"
      },
      "execution_count": 62,
      "outputs": [
        {
          "output_type": "stream",
          "name": "stdout",
          "text": [
            "{1, 2, 3, 5}\n"
          ]
        }
      ]
    },
    {
      "cell_type": "markdown",
      "source": [
        "for 문"
      ],
      "metadata": {
        "id": "npyIhS_3gU6M"
      }
    },
    {
      "cell_type": "code",
      "source": [
        "list1 = [1,2, 'text']\n",
        "for i in list1:\n",
        "    print(i)"
      ],
      "metadata": {
        "id": "EGPyBnBc8upf",
        "colab": {
          "base_uri": "https://localhost:8080/"
        },
        "outputId": "839a48a2-1434-4531-a764-188c1f2a0551"
      },
      "execution_count": 63,
      "outputs": [
        {
          "output_type": "stream",
          "name": "stdout",
          "text": [
            "1\n",
            "2\n",
            "text\n"
          ]
        }
      ]
    },
    {
      "cell_type": "code",
      "source": [
        "for n, i in enumerate(list1):\n",
        "    print(f'n is {n}. i is {i}')"
      ],
      "metadata": {
        "id": "qTj0ldvV9cwx",
        "colab": {
          "base_uri": "https://localhost:8080/"
        },
        "outputId": "a65ca68a-96c2-42ea-d906-b25c37578d3d"
      },
      "execution_count": 64,
      "outputs": [
        {
          "output_type": "stream",
          "name": "stdout",
          "text": [
            "n is 0. i is 1\n",
            "n is 1. i is 2\n",
            "n is 2. i is text\n"
          ]
        }
      ]
    },
    {
      "cell_type": "code",
      "source": [
        "for i in range(5):\n",
        "    print(i**2)"
      ],
      "metadata": {
        "id": "av5Tdfev2lkZ",
        "colab": {
          "base_uri": "https://localhost:8080/"
        },
        "outputId": "b8f566f0-17e3-4241-e3c0-af357131a182"
      },
      "execution_count": 65,
      "outputs": [
        {
          "output_type": "stream",
          "name": "stdout",
          "text": [
            "0\n",
            "1\n",
            "4\n",
            "9\n",
            "16\n"
          ]
        }
      ]
    },
    {
      "cell_type": "code",
      "source": [
        "tuple1 = (1, 2, 3)\n",
        "for i in tuple1:\n",
        "    print(i)"
      ],
      "metadata": {
        "id": "rEuGX1LUh01-",
        "colab": {
          "base_uri": "https://localhost:8080/"
        },
        "outputId": "5304803e-a7bc-4fc5-d65d-e7365bd75594"
      },
      "execution_count": 66,
      "outputs": [
        {
          "output_type": "stream",
          "name": "stdout",
          "text": [
            "1\n",
            "2\n",
            "3\n"
          ]
        }
      ]
    },
    {
      "cell_type": "code",
      "source": [
        "dict1 = {0: 'value1', 'key2': 'value2'}\n",
        "for i in dict1.keys():\n",
        "    print(i)"
      ],
      "metadata": {
        "id": "sMAIHZsrh8Lk",
        "colab": {
          "base_uri": "https://localhost:8080/"
        },
        "outputId": "a6b64815-d969-4993-8766-a43e3a0d864e"
      },
      "execution_count": 67,
      "outputs": [
        {
          "output_type": "stream",
          "name": "stdout",
          "text": [
            "0\n",
            "key2\n"
          ]
        }
      ]
    },
    {
      "cell_type": "code",
      "source": [
        "for i in dict1.values():\n",
        "    print(i)"
      ],
      "metadata": {
        "id": "6DMTd3_Di-L7",
        "colab": {
          "base_uri": "https://localhost:8080/"
        },
        "outputId": "a9948bc8-24e9-4f9c-ad75-a4c4a23d2a1c"
      },
      "execution_count": 68,
      "outputs": [
        {
          "output_type": "stream",
          "name": "stdout",
          "text": [
            "value1\n",
            "value2\n"
          ]
        }
      ]
    },
    {
      "cell_type": "code",
      "source": [
        "for key,value in dict1.items():\n",
        "    print(key, value)"
      ],
      "metadata": {
        "id": "GutiJ0L-i_qi",
        "colab": {
          "base_uri": "https://localhost:8080/"
        },
        "outputId": "748c311a-760e-4dda-e624-de71f89810e6"
      },
      "execution_count": 69,
      "outputs": [
        {
          "output_type": "stream",
          "name": "stdout",
          "text": [
            "0 value1\n",
            "key2 value2\n"
          ]
        }
      ]
    },
    {
      "cell_type": "code",
      "source": [
        "for i in range(10):\n",
        "    print(i)\n",
        "    if i > 3:\n",
        "        break"
      ],
      "metadata": {
        "id": "sbe65UuUVFZ-",
        "colab": {
          "base_uri": "https://localhost:8080/"
        },
        "outputId": "ec021b98-d9f2-488c-d9b8-82928b2d2028"
      },
      "execution_count": 70,
      "outputs": [
        {
          "output_type": "stream",
          "name": "stdout",
          "text": [
            "0\n",
            "1\n",
            "2\n",
            "3\n",
            "4\n"
          ]
        }
      ]
    },
    {
      "cell_type": "markdown",
      "source": [
        "while 문"
      ],
      "metadata": {
        "id": "c4MMqdOi9QyJ"
      }
    },
    {
      "cell_type": "code",
      "source": [
        "a = 5\n",
        "while a > 0:\n",
        "    print(a)\n",
        "    a -= 1"
      ],
      "metadata": {
        "id": "XHFVVKaw9XAq",
        "colab": {
          "base_uri": "https://localhost:8080/"
        },
        "outputId": "f7dfd49a-4232-4423-b124-ed5817cfd2ea"
      },
      "execution_count": 71,
      "outputs": [
        {
          "output_type": "stream",
          "name": "stdout",
          "text": [
            "5\n",
            "4\n",
            "3\n",
            "2\n",
            "1\n"
          ]
        }
      ]
    },
    {
      "cell_type": "markdown",
      "source": [
        "함수"
      ],
      "metadata": {
        "id": "pt1FVWQfjZSn"
      }
    },
    {
      "cell_type": "code",
      "source": [
        "def func(a, b):\n",
        "    return a+b\n",
        "func(a = 3, b= 4), func(3, 4)"
      ],
      "metadata": {
        "id": "tg8BhfNBjbYn",
        "colab": {
          "base_uri": "https://localhost:8080/"
        },
        "outputId": "977f59c1-663c-429a-b22b-9d6c21dcc928"
      },
      "execution_count": 72,
      "outputs": [
        {
          "output_type": "execute_result",
          "data": {
            "text/plain": [
              "(7, 7)"
            ]
          },
          "metadata": {},
          "execution_count": 72
        }
      ]
    },
    {
      "cell_type": "code",
      "source": [
        "def func(a, b):\n",
        "    return a+b\n",
        "    print('something')\n",
        "func(a = 3, b= 4), func(3, 4)"
      ],
      "metadata": {
        "id": "FveqrSYdCZWB",
        "colab": {
          "base_uri": "https://localhost:8080/"
        },
        "outputId": "c32c4e36-f9dd-4c8d-d44f-e0e382b809ab"
      },
      "execution_count": 73,
      "outputs": [
        {
          "output_type": "execute_result",
          "data": {
            "text/plain": [
              "(7, 7)"
            ]
          },
          "metadata": {},
          "execution_count": 73
        }
      ]
    },
    {
      "cell_type": "code",
      "source": [
        "def func2(a, b=3):\n",
        "    return a+b\n",
        "func2(3), func2(3,4), func2 (1, b=2)"
      ],
      "metadata": {
        "id": "f6pmcu6kjhda",
        "colab": {
          "base_uri": "https://localhost:8080/"
        },
        "outputId": "0ddd1cfb-ac2e-4c02-917c-92075625b9af"
      },
      "execution_count": 74,
      "outputs": [
        {
          "output_type": "execute_result",
          "data": {
            "text/plain": [
              "(6, 7, 3)"
            ]
          },
          "metadata": {},
          "execution_count": 74
        }
      ]
    },
    {
      "cell_type": "code",
      "source": [
        "def func3(a = 1, b):\n",
        "    return a+b"
      ],
      "metadata": {
        "id": "93kCicRqjsss",
        "colab": {
          "base_uri": "https://localhost:8080/",
          "height": 110
        },
        "outputId": "543204c9-57af-4c15-92f1-0b8df444231a"
      },
      "execution_count": 75,
      "outputs": [
        {
          "output_type": "error",
          "ename": "SyntaxError",
          "evalue": "non-default argument follows default argument (ipython-input-75-948603440.py, line 1)",
          "traceback": [
            "\u001b[0;36m  File \u001b[0;32m\"/tmp/ipython-input-75-948603440.py\"\u001b[0;36m, line \u001b[0;32m1\u001b[0m\n\u001b[0;31m    def func3(a = 1, b):\u001b[0m\n\u001b[0m                     ^\u001b[0m\n\u001b[0;31mSyntaxError\u001b[0m\u001b[0;31m:\u001b[0m non-default argument follows default argument\n"
          ]
        }
      ]
    },
    {
      "cell_type": "code",
      "source": [
        "def func4(a, b):\n",
        "    return a+b, a-b\n",
        "func4(3,4)"
      ],
      "metadata": {
        "id": "mx_DhMvKjpB5",
        "colab": {
          "base_uri": "https://localhost:8080/"
        },
        "outputId": "83d9ad2a-10f1-467d-999d-cba8381ac765"
      },
      "execution_count": 76,
      "outputs": [
        {
          "output_type": "execute_result",
          "data": {
            "text/plain": [
              "(7, -1)"
            ]
          },
          "metadata": {},
          "execution_count": 76
        }
      ]
    },
    {
      "cell_type": "markdown",
      "source": [
        "Class"
      ],
      "metadata": {
        "id": "W0VcRwfNj_DA"
      }
    },
    {
      "cell_type": "code",
      "source": [
        "class Rectangle():\n",
        "    def __init__(self, side1, side2):\n",
        "        self.side1 = side1\n",
        "        self.side2 = side2\n",
        "    def area(self):\n",
        "        return self.side1*self.side2\n",
        "    def perimeter(self):\n",
        "        return 2*self.side1 + 2*self.side2\n",
        "r = Rectangle(3,4)\n",
        "print(r.side1, r.side2)\n",
        "print(r.area())\n",
        "print(r.perimeter())"
      ],
      "metadata": {
        "id": "2V8bFreuyI2C",
        "colab": {
          "base_uri": "https://localhost:8080/"
        },
        "outputId": "5fd69660-534d-46fd-d825-718879ed81ae"
      },
      "execution_count": 77,
      "outputs": [
        {
          "output_type": "stream",
          "name": "stdout",
          "text": [
            "3 4\n",
            "12\n",
            "14\n"
          ]
        }
      ]
    },
    {
      "cell_type": "code",
      "source": [
        "class Square(Rectangle):\n",
        "    def __init__(self, side):\n",
        "        super().__init__(side,side)\n",
        "        self.side = side\n",
        "    def diagonal(self):\n",
        "        return self.side * (2**0.5)\n",
        "s = Square(3)\n",
        "print('side:', s.side)\n",
        "print('side1:', s.side1)\n",
        "print(s.area())\n",
        "print(s.perimeter())\n",
        "print(s.diagonal())"
      ],
      "metadata": {
        "id": "3MhuY9yZitMk",
        "colab": {
          "base_uri": "https://localhost:8080/"
        },
        "outputId": "5a08f915-d08a-4449-fbd8-e2a49f81681a"
      },
      "execution_count": 78,
      "outputs": [
        {
          "output_type": "stream",
          "name": "stdout",
          "text": [
            "side: 3\n",
            "side1: 3\n",
            "9\n",
            "12\n",
            "4.242640687119286\n"
          ]
        }
      ]
    },
    {
      "cell_type": "markdown",
      "source": [
        "import, plt"
      ],
      "metadata": {
        "id": "8X9MVGdS1ksV"
      }
    },
    {
      "cell_type": "code",
      "source": [
        "import matplotlib\n",
        "matplotlib.pyplot.plot([1,2,3], [4,7,8])\n",
        "matplotlib.pyplot.show()"
      ],
      "metadata": {
        "id": "b5yczJGaFaTc",
        "colab": {
          "base_uri": "https://localhost:8080/",
          "height": 430
        },
        "outputId": "5530c9cd-ca71-43f3-94c0-0157f254409d"
      },
      "execution_count": 79,
      "outputs": [
        {
          "output_type": "display_data",
          "data": {
            "text/plain": [
              "<Figure size 640x480 with 1 Axes>"
            ],
            "image/png": "[encoded data removed]"
          },
          "metadata": {}
        }
      ]
    },
    {
      "cell_type": "code",
      "source": [
        "import matplotlib.pyplot as plt\n",
        "plt.plot([1,2,3], [4,7,8])\n",
        "plt.show()"
      ],
      "metadata": {
        "id": "Nxrd_91P1pAY",
        "colab": {
          "base_uri": "https://localhost:8080/",
          "height": 430
        },
        "outputId": "2744e40c-7a02-46a1-d922-38ca66d23540"
      },
      "execution_count": 80,
      "outputs": [
        {
          "output_type": "display_data",
          "data": {
            "text/plain": [
              "<Figure size 640x480 with 1 Axes>"
            ],
            "image/png": "[encoded data removed]"
          },
          "metadata": {}
        }
      ]
    },
    {
      "cell_type": "markdown",
      "source": [
        "Numpy"
      ],
      "metadata": {
        "id": "ztR4mdYU2sTg"
      }
    },
    {
      "cell_type": "code",
      "source": [
        "import numpy as np\n",
        "x = np.array([1,2,3])\n",
        "y = np.array([4,5,6])\n",
        "print(x+y)\n",
        "print(x-y)\n",
        "print(x*y)\n",
        "print(x/y)"
      ],
      "metadata": {
        "id": "-YkT_noL2uZk",
        "colab": {
          "base_uri": "https://localhost:8080/"
        },
        "outputId": "d2c0d4dc-53a4-4731-d797-168c6da62cbd"
      },
      "execution_count": 81,
      "outputs": [
        {
          "output_type": "stream",
          "name": "stdout",
          "text": [
            "[5 7 9]\n",
            "[-3 -3 -3]\n",
            "[ 4 10 18]\n",
            "[0.25 0.4  0.5 ]\n"
          ]
        }
      ]
    },
    {
      "cell_type": "code",
      "source": [
        "x = np.arange(9)\n",
        "print(x)\n",
        "x = x.reshape(3,3)\n",
        "print(x)\n",
        "print(x.shape, x.dtype)"
      ],
      "metadata": {
        "id": "lE7ODiEE3bKt",
        "colab": {
          "base_uri": "https://localhost:8080/"
        },
        "outputId": "54122704-2f69-4518-c48b-1a3b6531aa1f"
      },
      "execution_count": 82,
      "outputs": [
        {
          "output_type": "stream",
          "name": "stdout",
          "text": [
            "[0 1 2 3 4 5 6 7 8]\n",
            "[[0 1 2]\n",
            " [3 4 5]\n",
            " [6 7 8]]\n",
            "(3, 3) int64\n"
          ]
        }
      ]
    },
    {
      "cell_type": "code",
      "source": [
        "print(x[0], x[1])\n",
        "print(x[1,2])\n",
        "print(x[:,0])\n",
        "print(x[1:,:-1])"
      ],
      "metadata": {
        "id": "XtL8SuZw3kdC",
        "colab": {
          "base_uri": "https://localhost:8080/"
        },
        "outputId": "b52e2e5f-fd08-4fa5-de01-5225fb4ac6d6"
      },
      "execution_count": 83,
      "outputs": [
        {
          "output_type": "stream",
          "name": "stdout",
          "text": [
            "[0 1 2] [3 4 5]\n",
            "5\n",
            "[0 3 6]\n",
            "[[3 4]\n",
            " [6 7]]\n"
          ]
        }
      ]
    },
    {
      "cell_type": "code",
      "source": [
        "np.exp(x)"
      ],
      "metadata": {
        "id": "VRGbg8393-gp",
        "colab": {
          "base_uri": "https://localhost:8080/"
        },
        "outputId": "2571e727-9d14-40b5-bf84-71cded957b60"
      },
      "execution_count": 84,
      "outputs": [
        {
          "output_type": "execute_result",
          "data": {
            "text/plain": [
              "array([[1.00000000e+00, 2.71828183e+00, 7.38905610e+00],\n",
              "       [2.00855369e+01, 5.45981500e+01, 1.48413159e+02],\n",
              "       [4.03428793e+02, 1.09663316e+03, 2.98095799e+03]])"
            ]
          },
          "metadata": {},
          "execution_count": 84
        }
      ]
    },
    {
      "cell_type": "markdown",
      "source": [
        "# torch 기본\n",
        "\n"
      ],
      "metadata": {
        "id": "FZDSYHW1t6Po"
      }
    },
    {
      "cell_type": "code",
      "source": [
        "import torch\n",
        "x = torch.arange(12)\n",
        "print(x)\n",
        "print(x.shape)"
      ],
      "metadata": {
        "id": "x3ZzSnsWs8rh",
        "colab": {
          "base_uri": "https://localhost:8080/"
        },
        "outputId": "e4508908-4c34-4760-dc45-801c3fdcd212"
      },
      "execution_count": 85,
      "outputs": [
        {
          "output_type": "stream",
          "name": "stdout",
          "text": [
            "tensor([ 0,  1,  2,  3,  4,  5,  6,  7,  8,  9, 10, 11])\n",
            "torch.Size([12])\n"
          ]
        }
      ]
    },
    {
      "cell_type": "code",
      "source": [
        "x2 = x.reshape(3,4)\n",
        "print(x2)"
      ],
      "metadata": {
        "id": "8eg9xPq3A6yR",
        "colab": {
          "base_uri": "https://localhost:8080/"
        },
        "outputId": "f09cce0d-88be-4891-d5f5-4cd2cb475938"
      },
      "execution_count": 86,
      "outputs": [
        {
          "output_type": "stream",
          "name": "stdout",
          "text": [
            "tensor([[ 0,  1,  2,  3],\n",
            "        [ 4,  5,  6,  7],\n",
            "        [ 8,  9, 10, 11]])\n"
          ]
        }
      ]
    },
    {
      "cell_type": "code",
      "source": [
        "torch.ones(3,4)"
      ],
      "metadata": {
        "id": "iYkcU-tZCr9L",
        "colab": {
          "base_uri": "https://localhost:8080/"
        },
        "outputId": "902f66fb-2ecd-4347-9c14-c402b7500787"
      },
      "execution_count": 87,
      "outputs": [
        {
          "output_type": "execute_result",
          "data": {
            "text/plain": [
              "tensor([[1., 1., 1., 1.],\n",
              "        [1., 1., 1., 1.],\n",
              "        [1., 1., 1., 1.]])"
            ]
          },
          "metadata": {},
          "execution_count": 87
        }
      ]
    },
    {
      "cell_type": "code",
      "source": [
        "torch.zeros(3,4)"
      ],
      "metadata": {
        "id": "28yfadqHCwLn",
        "colab": {
          "base_uri": "https://localhost:8080/"
        },
        "outputId": "5ffc8023-020d-4b3a-9364-f88387f9b92c"
      },
      "execution_count": 88,
      "outputs": [
        {
          "output_type": "execute_result",
          "data": {
            "text/plain": [
              "tensor([[0., 0., 0., 0.],\n",
              "        [0., 0., 0., 0.],\n",
              "        [0., 0., 0., 0.]])"
            ]
          },
          "metadata": {},
          "execution_count": 88
        }
      ]
    },
    {
      "cell_type": "code",
      "source": [
        "torch.randn(3,4)"
      ],
      "metadata": {
        "id": "7DGtGCIKCyjV",
        "colab": {
          "base_uri": "https://localhost:8080/"
        },
        "outputId": "13934040-1df9-4ead-d3f1-5328c3b13760"
      },
      "execution_count": 89,
      "outputs": [
        {
          "output_type": "execute_result",
          "data": {
            "text/plain": [
              "tensor([[ 1.2703,  1.2768,  1.0755,  0.2527],\n",
              "        [ 0.2664, -2.0409, -1.6106, -0.9879],\n",
              "        [-1.5203,  0.2548, -1.9492, -1.3138]])"
            ]
          },
          "metadata": {},
          "execution_count": 89
        }
      ]
    },
    {
      "cell_type": "code",
      "source": [
        "torch.rand(3,4)"
      ],
      "metadata": {
        "id": "EG7oNTw0MB5Z",
        "colab": {
          "base_uri": "https://localhost:8080/"
        },
        "outputId": "a76b1f3b-e56a-44ae-e36c-98824420a06d"
      },
      "execution_count": 90,
      "outputs": [
        {
          "output_type": "execute_result",
          "data": {
            "text/plain": [
              "tensor([[0.5934, 0.2996, 0.2398, 0.6478],\n",
              "        [0.1879, 0.2912, 0.1591, 0.5277],\n",
              "        [0.3735, 0.7618, 0.7011, 0.9368]])"
            ]
          },
          "metadata": {},
          "execution_count": 90
        }
      ]
    },
    {
      "cell_type": "code",
      "source": [
        "x = torch.tensor([[4,2,3,1], [1,2,3,4]])\n",
        "x"
      ],
      "metadata": {
        "id": "8x8eKok9C5IE",
        "colab": {
          "base_uri": "https://localhost:8080/"
        },
        "outputId": "72110823-b6ad-439d-8d37-3161955da945"
      },
      "execution_count": 91,
      "outputs": [
        {
          "output_type": "execute_result",
          "data": {
            "text/plain": [
              "tensor([[4, 2, 3, 1],\n",
              "        [1, 2, 3, 4]])"
            ]
          },
          "metadata": {},
          "execution_count": 91
        }
      ]
    },
    {
      "cell_type": "code",
      "source": [
        "x.numpy()"
      ],
      "metadata": {
        "id": "_-Z7Ev9-4IWI",
        "colab": {
          "base_uri": "https://localhost:8080/"
        },
        "outputId": "b0657da7-c0fe-4dcb-ae5f-6d571c2317bb"
      },
      "execution_count": 92,
      "outputs": [
        {
          "output_type": "execute_result",
          "data": {
            "text/plain": [
              "array([[4, 2, 3, 1],\n",
              "       [1, 2, 3, 4]])"
            ]
          },
          "metadata": {},
          "execution_count": 92
        }
      ]
    },
    {
      "cell_type": "code",
      "source": [
        "x_numpy = np.array([1,2,3])\n",
        "x = torch.tensor(x_numpy)\n",
        "x"
      ],
      "metadata": {
        "id": "TUEBd1MhNM5R",
        "colab": {
          "base_uri": "https://localhost:8080/"
        },
        "outputId": "da2a0f1e-10d6-4f9c-8c89-bedaef30107a"
      },
      "execution_count": 93,
      "outputs": [
        {
          "output_type": "execute_result",
          "data": {
            "text/plain": [
              "tensor([1, 2, 3])"
            ]
          },
          "metadata": {},
          "execution_count": 93
        }
      ]
    },
    {
      "cell_type": "code",
      "source": [
        "x = torch.zeros(1,3)\n",
        "print(x.shape)\n",
        "x = x.squeeze()\n",
        "print(x.shape)\n",
        "y = x.unsqueeze(dim = 0)\n",
        "print(y.shape)\n",
        "y = x.unsqueeze(dim = 1)\n",
        "print(y.shape)"
      ],
      "metadata": {
        "id": "HYieyboOUf7S",
        "colab": {
          "base_uri": "https://localhost:8080/"
        },
        "outputId": "ab1ad0b4-e72a-47a4-f476-f624810e386d"
      },
      "execution_count": 94,
      "outputs": [
        {
          "output_type": "stream",
          "name": "stdout",
          "text": [
            "torch.Size([1, 3])\n",
            "torch.Size([3])\n",
            "torch.Size([1, 3])\n",
            "torch.Size([3, 1])\n"
          ]
        }
      ]
    },
    {
      "cell_type": "markdown",
      "source": [
        "Broadcasting"
      ],
      "metadata": {
        "id": "c21hH8AnMhxy"
      }
    },
    {
      "cell_type": "code",
      "source": [
        "x = torch.ones(3,2)\n",
        "print(x)\n",
        "print(x * 2)"
      ],
      "metadata": {
        "id": "Cst0_HbiMl34",
        "colab": {
          "base_uri": "https://localhost:8080/"
        },
        "outputId": "05864cf3-fb15-4249-baa2-19e8e002f2ce"
      },
      "execution_count": 95,
      "outputs": [
        {
          "output_type": "stream",
          "name": "stdout",
          "text": [
            "tensor([[1., 1.],\n",
            "        [1., 1.],\n",
            "        [1., 1.]])\n",
            "tensor([[2., 2.],\n",
            "        [2., 2.],\n",
            "        [2., 2.]])\n"
          ]
        }
      ]
    },
    {
      "cell_type": "code",
      "source": [
        "y = torch.tensor([2,3])\n",
        "print(y)\n",
        "print(x * y)"
      ],
      "metadata": {
        "id": "8SLHDEVj4KjA",
        "colab": {
          "base_uri": "https://localhost:8080/"
        },
        "outputId": "07173689-e0ea-44bd-a028-05642a227400"
      },
      "execution_count": 96,
      "outputs": [
        {
          "output_type": "stream",
          "name": "stdout",
          "text": [
            "tensor([2, 3])\n",
            "tensor([[2., 3.],\n",
            "        [2., 3.],\n",
            "        [2., 3.]])\n"
          ]
        }
      ]
    },
    {
      "cell_type": "markdown",
      "source": [
        "Autograd"
      ],
      "metadata": {
        "id": "jSa1aXHU2BWb"
      }
    },
    {
      "cell_type": "code",
      "source": [
        "x = torch.randn(1, requires_grad = True)\n",
        "y = torch.randn(1, requires_grad = True)\n",
        "print(x,y)"
      ],
      "metadata": {
        "id": "YFXxMpxlDJC6",
        "colab": {
          "base_uri": "https://localhost:8080/"
        },
        "outputId": "47d4abc9-c303-4e61-bf3d-42a8406199cf"
      },
      "execution_count": 97,
      "outputs": [
        {
          "output_type": "stream",
          "name": "stdout",
          "text": [
            "tensor([-1.7798], requires_grad=True) tensor([-0.0180], requires_grad=True)\n"
          ]
        }
      ]
    },
    {
      "cell_type": "code",
      "source": [
        "z = x*y\n",
        "z.backward()\n",
        "print(x.grad, y.grad)"
      ],
      "metadata": {
        "id": "sZkwbsSxPsP6",
        "colab": {
          "base_uri": "https://localhost:8080/"
        },
        "outputId": "4083eee8-ade1-4373-e3b0-658f621a6b8f"
      },
      "execution_count": 98,
      "outputs": [
        {
          "output_type": "stream",
          "name": "stdout",
          "text": [
            "tensor([-0.0180]) tensor([-1.7798])\n"
          ]
        }
      ]
    },
    {
      "cell_type": "code",
      "source": [
        "x = torch.randn(1, requires_grad = True)\n",
        "y = torch.randn(1, requires_grad = True)\n",
        "z = x*y\n",
        "z.backward()\n",
        "z.backward()"
      ],
      "metadata": {
        "id": "5ih2AcpfUE_C",
        "colab": {
          "base_uri": "https://localhost:8080/",
          "height": 351
        },
        "outputId": "15129902-34a9-4e9c-a29a-861e686b4e5d"
      },
      "execution_count": 99,
      "outputs": [
        {
          "output_type": "error",
          "ename": "RuntimeError",
          "evalue": "Trying to backward through the graph a second time (or directly access saved tensors after they have already been freed). Saved intermediate values of the graph are freed when you call .backward() or autograd.grad(). Specify retain_graph=True if you need to backward through the graph a second time or if you need to access saved tensors after calling backward.",
          "traceback": [
            "\u001b[0;31m---------------------------------------------------------------------------\u001b[0m",
            "\u001b[0;31mRuntimeError\u001b[0m                              Traceback (most recent call last)",
            "\u001b[0;32m/tmp/ipython-input-99-270508765.py\u001b[0m in \u001b[0;36m<cell line: 0>\u001b[0;34m()\u001b[0m\n\u001b[1;32m      3\u001b[0m \u001b[0mz\u001b[0m \u001b[0;34m=\u001b[0m \u001b[0mx\u001b[0m\u001b[0;34m*\u001b[0m\u001b[0my\u001b[0m\u001b[0;34m\u001b[0m\u001b[0;34m\u001b[0m\u001b[0m\n\u001b[1;32m      4\u001b[0m \u001b[0mz\u001b[0m\u001b[0;34m.\u001b[0m\u001b[0mbackward\u001b[0m\u001b[0;34m(\u001b[0m\u001b[0;34m)\u001b[0m\u001b[0;34m\u001b[0m\u001b[0;34m\u001b[0m\u001b[0m\n\u001b[0;32m----> 5\u001b[0;31m \u001b[0mz\u001b[0m\u001b[0;34m.\u001b[0m\u001b[0mbackward\u001b[0m\u001b[0;34m(\u001b[0m\u001b[0;34m)\u001b[0m\u001b[0;34m\u001b[0m\u001b[0;34m\u001b[0m\u001b[0m\n\u001b[0m",
            "\u001b[0;32m/usr/local/lib/python3.11/dist-packages/torch/_tensor.py\u001b[0m in \u001b[0;36mbackward\u001b[0;34m(self, gradient, retain_graph, create_graph, inputs)\u001b[0m\n\u001b[1;32m    624\u001b[0m                 \u001b[0minputs\u001b[0m\u001b[0;34m=\u001b[0m\u001b[0minputs\u001b[0m\u001b[0;34m,\u001b[0m\u001b[0;34m\u001b[0m\u001b[0;34m\u001b[0m\u001b[0m\n\u001b[1;32m    625\u001b[0m             )\n\u001b[0;32m--> 626\u001b[0;31m         torch.autograd.backward(\n\u001b[0m\u001b[1;32m    627\u001b[0m             \u001b[0mself\u001b[0m\u001b[0;34m,\u001b[0m \u001b[0mgradient\u001b[0m\u001b[0;34m,\u001b[0m \u001b[0mretain_graph\u001b[0m\u001b[0;34m,\u001b[0m \u001b[0mcreate_graph\u001b[0m\u001b[0;34m,\u001b[0m \u001b[0minputs\u001b[0m\u001b[0;34m=\u001b[0m\u001b[0minputs\u001b[0m\u001b[0;34m\u001b[0m\u001b[0;34m\u001b[0m\u001b[0m\n\u001b[1;32m    628\u001b[0m         )\n",
            "\u001b[0;32m/usr/local/lib/python3.11/dist-packages/torch/autograd/__init__.py\u001b[0m in \u001b[0;36mbackward\u001b[0;34m(tensors, grad_tensors, retain_graph, create_graph, grad_variables, inputs)\u001b[0m\n\u001b[1;32m    345\u001b[0m     \u001b[0;31m# some Python versions print out the first line of a multi-line function\u001b[0m\u001b[0;34m\u001b[0m\u001b[0;34m\u001b[0m\u001b[0m\n\u001b[1;32m    346\u001b[0m     \u001b[0;31m# calls in the traceback and some print out the last line\u001b[0m\u001b[0;34m\u001b[0m\u001b[0;34m\u001b[0m\u001b[0m\n\u001b[0;32m--> 347\u001b[0;31m     _engine_run_backward(\n\u001b[0m\u001b[1;32m    348\u001b[0m         \u001b[0mtensors\u001b[0m\u001b[0;34m,\u001b[0m\u001b[0;34m\u001b[0m\u001b[0;34m\u001b[0m\u001b[0m\n\u001b[1;32m    349\u001b[0m         \u001b[0mgrad_tensors_\u001b[0m\u001b[0;34m,\u001b[0m\u001b[0;34m\u001b[0m\u001b[0;34m\u001b[0m\u001b[0m\n",
            "\u001b[0;32m/usr/local/lib/python3.11/dist-packages/torch/autograd/graph.py\u001b[0m in \u001b[0;36m_engine_run_backward\u001b[0;34m(t_outputs, *args, **kwargs)\u001b[0m\n\u001b[1;32m    821\u001b[0m         \u001b[0munregister_hooks\u001b[0m \u001b[0;34m=\u001b[0m \u001b[0m_register_logging_hooks_on_whole_graph\u001b[0m\u001b[0;34m(\u001b[0m\u001b[0mt_outputs\u001b[0m\u001b[0;34m)\u001b[0m\u001b[0;34m\u001b[0m\u001b[0;34m\u001b[0m\u001b[0m\n\u001b[1;32m    822\u001b[0m     \u001b[0;32mtry\u001b[0m\u001b[0;34m:\u001b[0m\u001b[0;34m\u001b[0m\u001b[0;34m\u001b[0m\u001b[0m\n\u001b[0;32m--> 823\u001b[0;31m         return Variable._execution_engine.run_backward(  # Calls into the C++ engine to run the backward pass\n\u001b[0m\u001b[1;32m    824\u001b[0m             \u001b[0mt_outputs\u001b[0m\u001b[0;34m,\u001b[0m \u001b[0;34m*\u001b[0m\u001b[0margs\u001b[0m\u001b[0;34m,\u001b[0m \u001b[0;34m**\u001b[0m\u001b[0mkwargs\u001b[0m\u001b[0;34m\u001b[0m\u001b[0;34m\u001b[0m\u001b[0m\n\u001b[1;32m    825\u001b[0m         )  # Calls into the C++ engine to run the backward pass\n",
            "\u001b[0;31mRuntimeError\u001b[0m: Trying to backward through the graph a second time (or directly access saved tensors after they have already been freed). Saved intermediate values of the graph are freed when you call .backward() or autograd.grad(). Specify retain_graph=True if you need to backward through the graph a second time or if you need to access saved tensors after calling backward."
          ]
        }
      ]
    },
    {
      "cell_type": "code",
      "source": [
        "x = torch.randn(1, requires_grad = True)\n",
        "y = torch.randn(1, requires_grad = False)\n",
        "z = x*y\n",
        "z.backward()\n",
        "print(x, y)\n",
        "print(y.grad)"
      ],
      "metadata": {
        "id": "Gdd_2S6f4GQr"
      },
      "execution_count": null,
      "outputs": []
    },
    {
      "cell_type": "code",
      "source": [
        "x = torch.ones(1, requires_grad = True)\n",
        "print(x)\n",
        "y = x * x\n",
        "y = y.detach()\n",
        "z = y * x\n",
        "z.backward()\n",
        "x.grad"
      ],
      "metadata": {
        "id": "UyOhVx5YQwwh"
      },
      "execution_count": null,
      "outputs": []
    },
    {
      "cell_type": "code",
      "source": [],
      "metadata": {
        "id": "CYI3ajE18vEN"
      },
      "execution_count": null,
      "outputs": []
    }
  ]
}